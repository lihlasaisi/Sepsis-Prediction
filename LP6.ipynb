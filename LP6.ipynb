{
 "cells": [
  {
   "cell_type": "markdown",
   "metadata": {},
   "source": [
    "# "
   ]
  },
  {
   "cell_type": "markdown",
   "metadata": {},
   "source": [
    "# Introduction"
   ]
  },
  {
   "cell_type": "markdown",
   "metadata": {},
   "source": [
    "This is information The Johns Hopkins University Hospital trying to do a prediction of the chances of one being Sepssis Positive or Negative"
   ]
  },
  {
   "cell_type": "markdown",
   "metadata": {},
   "source": [
    "## Null Hypothesis:"
   ]
  },
  {
   "cell_type": "markdown",
   "metadata": {},
   "source": [
    "There is no significant difference in the mean age between patients with positive and negative \"Sepssis\" conditions."
   ]
  },
  {
   "cell_type": "markdown",
   "metadata": {},
   "source": [
    "## Alternate Hypothesis:"
   ]
  },
  {
   "cell_type": "markdown",
   "metadata": {},
   "source": [
    "There is a significant difference in the mean age between patients with positive and negative \"Sepssis\" conditions."
   ]
  },
  {
   "cell_type": "markdown",
   "metadata": {},
   "source": [
    "## Questions"
   ]
  },
  {
   "cell_type": "markdown",
   "metadata": {},
   "source": [
    "1. Between Positive and Negative Sepssis which one has a higher numbers ? \n",
    "2. Is there a correlation between a Sepssis and Age Bracket ?\n",
    "3. What is the Insurance uptake like for those with Positive Sepssis compared to Negative Sepssis ?\n",
    "4. What is the Relationship between Blood Pressure, Body mass index and Age of the Patients ?"
   ]
  },
  {
   "cell_type": "code",
   "execution_count": 1,
   "metadata": {},
   "outputs": [],
   "source": [
    "# importing libraries\n",
    "import pandas as pd\n",
    "import numpy as np\n",
    "from matplotlib import pyplot as plt\n",
    "import plotly.express as px\n",
    "import seaborn as sns\n",
    "\n",
    "#Data Splitting\n",
    "from sklearn.model_selection import train_test_split, GridSearchCV\n",
    "\n",
    "#Models\n",
    "from sklearn.metrics import confusion_matrix,classification_report,f1_score\n",
    "from sklearn.linear_model import LogisticRegression\n",
    "from sklearn.ensemble import RandomForestClassifier\n",
    "from sklearn.neighbors import KNeighborsClassifier\n",
    "from sklearn.tree import DecisionTreeClassifier\n",
    "from scipy import stats\n",
    "from sklearn.pipeline import Pipeline\n",
    "from sklearn.compose import ColumnTransformer\n",
    "from sklearn.impute import SimpleImputer\n",
    "from sklearn.preprocessing import OneHotEncoder, LabelEncoder,StandardScaler\n",
    "from imblearn.over_sampling import SMOTE\n",
    "from sklearn.model_selection import cross_val_score\n",
    "import pickle\n",
    "import shap\n",
    "\n",
    "# EDA\n",
    "from pandas_profiling import ProfileReport\n",
    "\n",
    "import warnings\n",
    "warnings.filterwarnings('ignore')"
   ]
  },
  {
   "cell_type": "code",
   "execution_count": 2,
   "metadata": {},
   "outputs": [],
   "source": [
    "# Data handling\n",
    "#import pandas as pd\n",
    "\n",
    "# Vizualisation (Matplotlib, Plotly, Seaborn, etc. )\n",
    "...\n",
    "\n",
    "# EDA (pandas-profiling, etc. )\n",
    "...\n",
    "\n",
    "# Feature Processing (Scikit-learn processing, etc. )\n",
    "...\n",
    "\n",
    "# Machine Learning (Scikit-learn Estimators, Catboost, LightGBM, etc. )\n",
    "...\n",
    "\n",
    "# Hyperparameters Fine-tuning (Scikit-learn hp search, cross-validation, etc. )\n",
    "...\n",
    "\n",
    "# Other packages\n",
    "import os\n"
   ]
  },
  {
   "cell_type": "markdown",
   "metadata": {},
   "source": [
    "## Data Loading"
   ]
  },
  {
   "cell_type": "code",
   "execution_count": null,
   "metadata": {},
   "outputs": [],
   "source": [
    "# loading dataset\n",
    "patient_test= pd.read_csv(r\"C:\\Users\\hp\\Box\\Azubi-Africa\\LP6\\Sepsis-Prediction-1\\Data Files\\Paitients_Files_Test.csv\")\n",
    "patient_train= pd.read_csv(r\"C:\\Users\\hp\\Box\\Azubi-Africa\\LP6\\Sepsis-Prediction-1\\Data Files\\Paitients_Files_Train.csv\")"
   ]
  },
  {
   "cell_type": "markdown",
   "metadata": {},
   "source": [
    "# Exploratory Data Analysis: EDA"
   ]
  },
  {
   "cell_type": "markdown",
   "metadata": {},
   "source": [
    "## Data Overview"
   ]
  },
  {
   "cell_type": "code",
   "execution_count": null,
   "metadata": {},
   "outputs": [],
   "source": [
    "patient_test.head()"
   ]
  },
  {
   "cell_type": "code",
   "execution_count": null,
   "metadata": {},
   "outputs": [],
   "source": [
    "patient_train.head()"
   ]
  },
  {
   "cell_type": "code",
   "execution_count": null,
   "metadata": {},
   "outputs": [],
   "source": [
    "patient_train.shape"
   ]
  },
  {
   "cell_type": "code",
   "execution_count": null,
   "metadata": {},
   "outputs": [],
   "source": [
    "patient_train.info()"
   ]
  },
  {
   "cell_type": "code",
   "execution_count": null,
   "metadata": {},
   "outputs": [],
   "source": [
    "patient_train.isna().sum()"
   ]
  },
  {
   "cell_type": "code",
   "execution_count": null,
   "metadata": {},
   "outputs": [],
   "source": [
    "patient_train.duplicated().sum()"
   ]
  },
  {
   "cell_type": "code",
   "execution_count": null,
   "metadata": {},
   "outputs": [],
   "source": [
    "patient_train.describe()"
   ]
  },
  {
   "cell_type": "markdown",
   "metadata": {},
   "source": [
    "# Exploratory Data Analysis"
   ]
  },
  {
   "cell_type": "markdown",
   "metadata": {},
   "source": [
    "### Between Positive and Negative Sepssis which one has a higher numbers ? "
   ]
  },
  {
   "cell_type": "code",
   "execution_count": null,
   "metadata": {},
   "outputs": [],
   "source": [
    "# Getting the value count of Sepssis(positive/negative)\n",
    "patient_train['Sepssis'].value_counts()"
   ]
  },
  {
   "cell_type": "code",
   "execution_count": null,
   "metadata": {},
   "outputs": [],
   "source": [
    "sns.countplot(x='Sepssis', data=patient_train)\n",
    "plt.title('Sepssis Value Counts')\n",
    "plt.xlabel('Sepssis')\n",
    "plt.ylabel('Count')\n",
    "plt.show()"
   ]
  },
  {
   "cell_type": "markdown",
   "metadata": {},
   "source": [
    "From the above graph we are able to note that we have more Negative results as compared to Positive"
   ]
  },
  {
   "cell_type": "markdown",
   "metadata": {},
   "source": [
    "### Is there a correlation between a Sepssis and Age Bracket ?"
   ]
  },
  {
   "cell_type": "code",
   "execution_count": null,
   "metadata": {},
   "outputs": [],
   "source": [
    "# Define age groups\n",
    "age_groups = [\"18-30\", \"31-40\", \"41-50\", \"51-60\", \"61-70\",\"71-80\"]\n",
    "\n",
    "# Count occurrences of Sepssis for each age group\n",
    "grouped_data = {age_group: {\"Positive\": 0, \"Negative\": 0} for age_group in age_groups}\n",
    "for age, sepssis in zip(patient_train[\"Age\"], patient_train[\"Sepssis\"]):\n",
    "    for age_range in age_groups:\n",
    "        age_range_values = age_range.split(\"-\")\n",
    "        if int(age_range_values[0]) <= age <= int(age_range_values[1]):\n",
    "            grouped_data[age_range][sepssis] += 1\n",
    "\n",
    "# Get the counts of Negative and Positive Sepssis for each age group\n",
    "negative_counts = [grouped_data[age_group][\"Negative\"] for age_group in age_groups]\n",
    "positive_counts = [grouped_data[age_group][\"Positive\"] for age_group in age_groups]\n",
    "\n",
    "# Create a bar plot to compare Negative and Positive Sepssis\n",
    "bar_width = 0.35\n",
    "index = range(len(age_groups))\n",
    "\n",
    "plt.bar(index, negative_counts, bar_width, label='Negative Sepssis')\n",
    "plt.bar(index, positive_counts, bar_width, bottom=negative_counts, label='Positive Sepssis')\n",
    "\n",
    "# Set x-axis ticks and labels\n",
    "plt.xlabel('Age Groups')\n",
    "plt.xticks(index, age_groups)\n",
    "\n",
    "# Set y-axis label\n",
    "plt.ylabel('Count')\n",
    "\n",
    "# Set title and legend\n",
    "plt.title('Comparison of Negative and Positive Sepssis by Age Group')\n",
    "plt.legend()\n",
    "\n",
    "# Display the plot\n",
    "plt.show()"
   ]
  },
  {
   "cell_type": "markdown",
   "metadata": {},
   "source": [
    "We are able to conclude there is a higher percantage of positive and negative sepssis in the age bracket of 18-30 yrs"
   ]
  },
  {
   "cell_type": "markdown",
   "metadata": {},
   "source": [
    "### What is the Relationship between Blood Pressure, Body mass index and Age of the Patients ?"
   ]
  },
  {
   "cell_type": "code",
   "execution_count": null,
   "metadata": {},
   "outputs": [],
   "source": [
    "# Set the figure size\n",
    "plt.figure(figsize=(15, 8))  # Adjust the width and height as desired\n",
    "\n",
    "# Create the scatter plot\n",
    "plt.scatter(patient_train['PR'], patient_train['M11'], c=patient_train['Age'], cmap='viridis')\n",
    "plt.colorbar(label='Age')\n",
    "plt.xlabel('PR')\n",
    "plt.ylabel('M11')\n",
    "plt.title('Relationship between PR, M11, and Age')\n",
    "\n",
    "# Display the scatter plot\n",
    "plt.show()"
   ]
  },
  {
   "cell_type": "markdown",
   "metadata": {},
   "source": [
    "### What is the Insurance uptake like for those with Positive Sepssis compared to Negative Sepssis"
   ]
  },
  {
   "cell_type": "code",
   "execution_count": null,
   "metadata": {},
   "outputs": [],
   "source": [
    "# Count the occurrences of each combination of Sepssis and Insurance\n",
    "count_data = patient_train.groupby(['Sepssis', 'Insurance']).size().reset_index(name='Count')\n",
    "\n",
    "# Create a bar plot\n",
    "ax = sns.barplot(x='Sepssis', y='Count', hue='Insurance', data=count_data)\n",
    "\n",
    "# Add value annotations to the plot\n",
    "for p in ax.patches:\n",
    "    ax.annotate(format(p.get_height(), '.0f'), (p.get_x() + p.get_width() / 2., p.get_height()),\n",
    "                ha = 'center', va = 'center', xytext = (0, 10), textcoords = 'offset points')\n",
    "\n",
    "# Set labels and title\n",
    "plt.xlabel('Sepssis')\n",
    "plt.ylabel('Count')\n",
    "plt.title('Distribution of Sepssis Grouped by Insurance')\n",
    "\n",
    "# Display the plot\n",
    "plt.show()"
   ]
  },
  {
   "cell_type": "markdown",
   "metadata": {},
   "source": [
    "We can conclude that insurance uptake is lower for those with positive sepssis as compared to those who are negative"
   ]
  },
  {
   "cell_type": "code",
   "execution_count": null,
   "metadata": {},
   "outputs": [],
   "source": [
    "# Select the columns for individual box plots\n",
    "columns_for_boxplot = ['PRG', 'PL', 'PR', 'SK', 'TS', 'M11', 'BD2', 'Age']\n",
    "\n",
    "# Create individual box plots\n",
    "plt.figure(figsize=(20, 15))\n",
    "\n",
    "for i, col in enumerate(columns_for_boxplot):\n",
    "    plt.subplot(3, 3, i+1)\n",
    "    sns.boxplot(data=patient_train[col])\n",
    "    plt.xlabel(col)\n",
    "    plt.ylabel('Values')\n",
    "\n",
    "plt.tight_layout()\n",
    "plt.show()"
   ]
  },
  {
   "cell_type": "markdown",
   "metadata": {},
   "source": [
    "We are able to note that there are outliners across"
   ]
  },
  {
   "cell_type": "markdown",
   "metadata": {},
   "source": [
    "## Multivariate Analysis"
   ]
  },
  {
   "cell_type": "code",
   "execution_count": null,
   "metadata": {},
   "outputs": [],
   "source": [
    "# Calculate the correlation matrix\n",
    "corr_matrix = patient_train.drop(columns=['ID']).corr()\n",
    "\n",
    "# Generate the heatmap\n",
    "plt.figure(figsize=(10, 8))\n",
    "sns.heatmap(corr_matrix, annot=True, cmap='gist_heat', square=True)\n",
    "\n",
    "# Set the title of the heatmap\n",
    "plt.title('Correlation Heatmap')\n",
    "\n",
    "# Display the heatmap\n",
    "plt.show()"
   ]
  },
  {
   "cell_type": "markdown",
   "metadata": {},
   "source": [
    "#### Based on the heatmap, we can make the following observations:\n",
    "-> Age and PRG have a moderately positive correlation, indicating that as the number of pregnancies increases, the age tends to be higher.\n",
    "\n",
    "-> PL and PR have a weak positive correlation, suggesting that higher glucose levels may be associated with slightly higher diastolic blood pressure.\n",
    "\n",
    "-> M11 and Age have a weak negative correlation, implying that older individuals tend to have slightly lower values for M11.\n",
    "\n",
    "-> TS and PRG have a weak negative correlation, indicating that as the number of pregnancies increases, the triceps skinfold thickness tends to be slightly lower.\n",
    "\n",
    "-> There seems to be no significant correlation between other variables based on the given dataset."
   ]
  },
  {
   "cell_type": "code",
   "execution_count": null,
   "metadata": {},
   "outputs": [],
   "source": [
    "numerical_vars = ['PRG', 'PL', 'PR']\n",
    "sns.pairplot(data=patient_train, vars=numerical_vars, hue='Sepssis', height=4)"
   ]
  },
  {
   "cell_type": "code",
   "execution_count": null,
   "metadata": {},
   "outputs": [],
   "source": [
    "numerical_vars = ['SK', 'TS', 'M11']\n",
    "sns.pairplot(data=patient_train, vars=numerical_vars, hue='Sepssis', height=6)"
   ]
  },
  {
   "cell_type": "code",
   "execution_count": null,
   "metadata": {},
   "outputs": [],
   "source": [
    "numerical_vars = ['BD2', 'Age', 'Insurance']\n",
    "sns.pairplot(data=patient_train, vars=numerical_vars, hue='Sepssis', height=6)"
   ]
  },
  {
   "cell_type": "code",
   "execution_count": null,
   "metadata": {},
   "outputs": [],
   "source": [
    "plt.figure(figsize=(10, 8))  # Set the figure size\n",
    "plt.hist(patient_train['Age'], bins=10)\n",
    "plt.xlabel('Age')\n",
    "plt.ylabel('Frequency')\n",
    "plt.title('Age Distribution')\n",
    "plt.show()"
   ]
  },
  {
   "cell_type": "code",
   "execution_count": null,
   "metadata": {},
   "outputs": [],
   "source": [
    "plt.figure(figsize=(10, 8))  # Set the figure size\n",
    "\n",
    "sns.boxplot(x='Sepssis', y='PR', data=patient_train)\n",
    "plt.xlabel('Sepssis')\n",
    "plt.ylabel('Blood Pressure (mm Hg)')\n",
    "plt.title('Blood Pressure Distribution by Sepsis')\n",
    "plt.show()"
   ]
  },
  {
   "cell_type": "markdown",
   "metadata": {},
   "source": [
    "## Testing Null Hypothesis\n",
    "### There is no significant difference in the mean age between patients with positive and negative \"Sepssis\" conditions."
   ]
  },
  {
   "cell_type": "code",
   "execution_count": null,
   "metadata": {},
   "outputs": [],
   "source": [
    "# Separate the age values for positive and negative Sepssis groups\n",
    "age_positive = patient_train[patient_train['Sepssis'] == 'Positive']['Age']\n",
    "age_negative = patient_train[patient_train['Sepssis'] == 'Negative']['Age']\n",
    "\n",
    "# Perform the two-sample t-test\n",
    "t_statistic, p_value = stats.ttest_ind(age_positive, age_negative)\n",
    "\n",
    "# Define the significance level\n",
    "alpha = 0.05\n",
    "\n",
    "# Compare the p-value with the significance level to draw conclusions\n",
    "if p_value < alpha:\n",
    "    print(\"Reject the null hypothesis. There is a significant difference in the mean age.\")\n",
    "else:\n",
    "    print(\"Fail to reject the null hypothesis. There is no significant difference in the mean age.\")"
   ]
  },
  {
   "cell_type": "markdown",
   "metadata": {},
   "source": [
    "## Testing Alternate Hypothesis\n",
    "### There is a significant difference in the mean age between patients with positive and negative \"Sepssis\" conditions."
   ]
  },
  {
   "cell_type": "code",
   "execution_count": null,
   "metadata": {},
   "outputs": [],
   "source": [
    "# Separate the age values for patients with positive and negative Sepssis\n",
    "positive_sepssis = patient_train[patient_train['Sepssis'] == 'Positive']['Age']\n",
    "negative_sepssis = patient_train[patient_train['Sepssis'] == 'Negative']['Age']\n",
    "\n",
    "# Perform an independent samples t-test\n",
    "t_statistic, p_value = stats.ttest_ind(positive_sepssis, negative_sepssis)\n",
    "\n",
    "# Print the results\n",
    "print(\"T-statistic:\", t_statistic)\n",
    "print(\"P-value:\", p_value)"
   ]
  },
  {
   "cell_type": "markdown",
   "metadata": {},
   "source": [
    "We can interpret the results as follows:\n",
    "\n",
    "T-Statistic: The t-statistic measures the difference between the mean ages of the positive and negative Sepssis groups relative to the variation within each group. In this case, the t-statistic is 5.254202967191447, indicating a significant difference between the mean ages of the two groups.\n",
    "\n",
    "P-Value: The p-value represents the probability of obtaining the observed difference in means or a more extreme difference if the null hypothesis (no significant difference) were true. In this case, the p-value is very small (2.0718778891882012e-07), which is significantly lower than the conventional significance level of 0.05. Therefore, we reject the null hypothesis and conclude that there is a significant difference in the mean age between patients with positive and negative Sepssis conditions.\n",
    "\n",
    "In summary, based on the results, we can say that there is strong evidence to support the claim that there is a significant difference in the mean age between patients with positive and negative Sepssis conditions."
   ]
  },
  {
   "cell_type": "markdown",
   "metadata": {},
   "source": [
    "# Feature Processing & Engineering"
   ]
  },
  {
   "cell_type": "markdown",
   "metadata": {},
   "source": [
    "## Drop Duplicates"
   ]
  },
  {
   "cell_type": "code",
   "execution_count": null,
   "metadata": {},
   "outputs": [],
   "source": [
    "# Check for duplicate rows\n",
    "duplicate_rows = patient_train.duplicated()\n",
    "print(\"Number of duplicate rows:\", duplicate_rows.sum())"
   ]
  },
  {
   "cell_type": "markdown",
   "metadata": {},
   "source": [
    "## Feature Encoding"
   ]
  },
  {
   "cell_type": "code",
   "execution_count": null,
   "metadata": {},
   "outputs": [],
   "source": [
    "# spliting the data into feature and target variables\n",
    "X = patient_train.iloc[:,:-1]\n",
    "y = patient_train.iloc[:,-1]"
   ]
  },
  {
   "cell_type": "code",
   "execution_count": null,
   "metadata": {},
   "outputs": [],
   "source": [
    "# Encoding the target variable\n",
    "label_encoder=LabelEncoder()\n",
    "y_encoded = label_encoder.fit_transform(y) "
   ]
  },
  {
   "cell_type": "code",
   "execution_count": null,
   "metadata": {},
   "outputs": [],
   "source": [
    "#converting to a DataFrame\n",
    "y_encoded_df = pd.DataFrame(y_encoded, columns = [\"Sepssis\"])"
   ]
  },
  {
   "cell_type": "code",
   "execution_count": null,
   "metadata": {},
   "outputs": [],
   "source": [
    "# combining the features and the encoded target variables\n",
    "patient_df = pd.concat([X, y_encoded_df], axis = 1 )"
   ]
  },
  {
   "cell_type": "code",
   "execution_count": null,
   "metadata": {},
   "outputs": [],
   "source": [
    "patient_df.head()"
   ]
  },
  {
   "cell_type": "code",
   "execution_count": null,
   "metadata": {},
   "outputs": [],
   "source": [
    "patient_df.drop('ID',axis=1,inplace=True)"
   ]
  },
  {
   "cell_type": "markdown",
   "metadata": {},
   "source": [
    "## Data Splitting"
   ]
  },
  {
   "cell_type": "code",
   "execution_count": null,
   "metadata": {
    "scrolled": true
   },
   "outputs": [],
   "source": [
    "# Split the encoded data into train and test sets\n",
    "X_train, X_eval, y_train, y_eval = train_test_split(patient_df.iloc[:, :-1], patient_df.iloc[:, -1:],\n",
    "                                                    test_size=0.2, random_state=42, stratify=patient_df.iloc[:, -1:])"
   ]
  },
  {
   "cell_type": "code",
   "execution_count": null,
   "metadata": {
    "scrolled": true
   },
   "outputs": [],
   "source": [
    "X_train.shape, X_eval.shape, y_train.shape, y_eval.shape"
   ]
  },
  {
   "cell_type": "code",
   "execution_count": null,
   "metadata": {},
   "outputs": [],
   "source": [
    "X_test = patient_test.drop('ID', axis=1)"
   ]
  },
  {
   "cell_type": "markdown",
   "metadata": {},
   "source": [
    "## Imputing Missing Values"
   ]
  },
  {
   "cell_type": "code",
   "execution_count": null,
   "metadata": {},
   "outputs": [],
   "source": [
    "# Creating imputer variables\n",
    "numerical_imputer = SimpleImputer(strategy = \"mean\")"
   ]
  },
  {
   "cell_type": "code",
   "execution_count": null,
   "metadata": {
    "scrolled": false
   },
   "outputs": [],
   "source": [
    "X_train_imputed = numerical_imputer.fit_transform(X_train)\n",
    "X_eval_imputed = numerical_imputer.transform(X_eval)"
   ]
  },
  {
   "cell_type": "markdown",
   "metadata": {},
   "source": [
    "## Features Scaling"
   ]
  },
  {
   "cell_type": "code",
   "execution_count": null,
   "metadata": {},
   "outputs": [],
   "source": [
    "#Create a Scaler and fit it to your training data\n",
    "scaler = StandardScaler()\n",
    "scaler.fit(X_train_imputed)\n",
    "\n",
    "# Transform the data\n",
    "scaled_df = scaler.transform(X_train_imputed)\n",
    "X_train_df = pd.DataFrame(scaled_df, columns=['PRG','PL','PR','SK','TS','M11','BD2','Age','Insurance'])\n",
    "\n",
    "X_eval_scaled = scaler.transform(X_eval_imputed)\n",
    "X_eval_df = pd.DataFrame(X_eval_scaled, columns = ['PRG','PL','PR','SK','TS','M11','BD2','Age','Insurance'])"
   ]
  },
  {
   "cell_type": "code",
   "execution_count": null,
   "metadata": {},
   "outputs": [],
   "source": [
    "X_train_df"
   ]
  },
  {
   "cell_type": "markdown",
   "metadata": {},
   "source": [
    "## Checking for Class Imbalance"
   ]
  },
  {
   "cell_type": "code",
   "execution_count": null,
   "metadata": {},
   "outputs": [],
   "source": [
    "counts = patient_train['Sepssis'].value_counts()\n",
    "\n",
    "# Calculate the percentage of each class in the 'Sepssis' column\n",
    "percentages = counts / counts.sum() * 100\n",
    "\n",
    "# Print the results\n",
    "print(percentages)"
   ]
  },
  {
   "cell_type": "code",
   "execution_count": null,
   "metadata": {},
   "outputs": [],
   "source": [
    "# Define the data for the chart\n",
    "labels = percentages.index.tolist()\n",
    "sizes = percentages.values.tolist()\n",
    "\n",
    "# Create the chart\n",
    "fig, ax = plt.subplots(figsize = (8, 6))\n",
    "ax.pie(sizes, labels=labels, autopct='%1.1f%%')\n",
    "ax.axis('equal')  # Equal aspect ratio ensures that pie is drawn as a circle.\n",
    "plt.title('Class Imbalance in Sepssis (Percentage)')\n",
    "plt.legend()\n",
    "\n",
    "# Show the chart\n",
    "plt.show()"
   ]
  },
  {
   "cell_type": "markdown",
   "metadata": {},
   "source": [
    "# Machine Learning Modeling"
   ]
  },
  {
   "cell_type": "markdown",
   "metadata": {},
   "source": [
    "## Decision Tree Regression Model"
   ]
  },
  {
   "cell_type": "code",
   "execution_count": null,
   "metadata": {},
   "outputs": [],
   "source": [
    "#fitting decision tree model\n",
    "dt_model=DecisionTreeClassifier(random_state=42)"
   ]
  },
  {
   "cell_type": "code",
   "execution_count": null,
   "metadata": {},
   "outputs": [],
   "source": [
    "#fitting model on imbalanced data\n",
    "dt_model.fit(X_train_df,y_train)\n"
   ]
  },
  {
   "cell_type": "code",
   "execution_count": null,
   "metadata": {},
   "outputs": [],
   "source": [
    "dt_pred = dt_model.predict(X_eval_df)"
   ]
  },
  {
   "cell_type": "code",
   "execution_count": null,
   "metadata": {},
   "outputs": [],
   "source": [
    "# report on unbalanced data\n",
    "dt_report1 = classification_report(y_eval, dt_pred)\n",
    "print(dt_report1)"
   ]
  },
  {
   "cell_type": "markdown",
   "metadata": {},
   "source": [
    "## Random Forest Model"
   ]
  },
  {
   "cell_type": "code",
   "execution_count": null,
   "metadata": {},
   "outputs": [],
   "source": [
    "#fitting random forest model\n",
    "rf_model = RandomForestClassifier(random_state=42)"
   ]
  },
  {
   "cell_type": "code",
   "execution_count": null,
   "metadata": {},
   "outputs": [],
   "source": [
    "#fitting model on imbalanced data\n",
    "rf_model.fit(X_train_df,y_train)"
   ]
  },
  {
   "cell_type": "code",
   "execution_count": null,
   "metadata": {},
   "outputs": [],
   "source": [
    "rf_pred = rf_model.predict(X_eval_df)"
   ]
  },
  {
   "cell_type": "code",
   "execution_count": null,
   "metadata": {},
   "outputs": [],
   "source": [
    "# report on unbalanced data\n",
    "rf_report1 = classification_report(y_eval, rf_pred)\n",
    "print(rf_report1)"
   ]
  },
  {
   "cell_type": "markdown",
   "metadata": {},
   "source": [
    "## Logistic Regression Model"
   ]
  },
  {
   "cell_type": "code",
   "execution_count": null,
   "metadata": {},
   "outputs": [],
   "source": [
    "# Fit a logistic regression model to the training data\n",
    "lr_model = LogisticRegression(random_state=42)"
   ]
  },
  {
   "cell_type": "code",
   "execution_count": null,
   "metadata": {},
   "outputs": [],
   "source": [
    "#fitting model on imbalanced data\n",
    "lr_model.fit(X_train_df,y_train)"
   ]
  },
  {
   "cell_type": "code",
   "execution_count": null,
   "metadata": {},
   "outputs": [],
   "source": [
    "lr_pred = lr_model.predict(X_eval_df)"
   ]
  },
  {
   "cell_type": "code",
   "execution_count": null,
   "metadata": {},
   "outputs": [],
   "source": [
    "# report on unbalanced data\n",
    "lr_report1 = classification_report(y_eval, lr_pred)\n",
    "print(lr_report1)"
   ]
  },
  {
   "cell_type": "markdown",
   "metadata": {},
   "source": [
    "## K Nearest Neighbour Model"
   ]
  },
  {
   "cell_type": "code",
   "execution_count": null,
   "metadata": {},
   "outputs": [],
   "source": [
    "kn_model = KNeighborsClassifier(n_neighbors=5)"
   ]
  },
  {
   "cell_type": "code",
   "execution_count": null,
   "metadata": {},
   "outputs": [],
   "source": [
    "#fitting model on imbalanced data\n",
    "kn_model.fit(X_train_df,y_train)"
   ]
  },
  {
   "cell_type": "code",
   "execution_count": null,
   "metadata": {},
   "outputs": [],
   "source": [
    "kn_pred = kn_model.predict(X_eval_df)"
   ]
  },
  {
   "cell_type": "code",
   "execution_count": null,
   "metadata": {},
   "outputs": [],
   "source": [
    "# report on unbalanced data\n",
    "kn_report1 = classification_report(y_eval, kn_pred)\n",
    "print(kn_report1)"
   ]
  },
  {
   "cell_type": "markdown",
   "metadata": {},
   "source": [
    "Comparing the models, we can make the following observations:\n",
    "\n",
    "-> The logistic regression model has the highest precision, recall, and F1-score for both classes, indicating better performance in correctly predicting both positive and negative instances.\n",
    "\n",
    "-> The random forest model has the lowest precision, recall, and F1-score for both classes among the compared models.\n",
    "\n",
    "-> The decision tree regression model and the K Nearest Neighbour model have similar performance metrics, with moderate precision, recall, and F1-scores for both classes.\n",
    "\n",
    "Overall, the Logistic Regression model appears to be the best-performing model among the compared models based on the provided evaluation metrics. "
   ]
  },
  {
   "cell_type": "markdown",
   "metadata": {},
   "source": [
    "## Model Comparison"
   ]
  },
  {
   "cell_type": "markdown",
   "metadata": {},
   "source": [
    "The F1-score is a measure of the accuracy of a binary classifier. It is calculated by taking the harmonic mean of precision and recall. Precision is the fraction of predicted positives that are actually positive, and recall is the fraction of actual positives that are predicted positive."
   ]
  },
  {
   "cell_type": "code",
   "execution_count": null,
   "metadata": {},
   "outputs": [],
   "source": [
    "dt_f1= f1_score(y_eval, dt_pred)\n",
    "rf_f1= f1_score(y_eval, rf_pred)\n",
    "kn_f1= f1_score(y_eval, kn_pred)\n",
    "lr_f1= f1_score(y_eval, lr_pred)"
   ]
  },
  {
   "cell_type": "code",
   "execution_count": null,
   "metadata": {},
   "outputs": [],
   "source": [
    "results= {'Model Name':['DecisionTreeClassifier','RandomForestClassifier','KNN','LogisticRegression'],\n",
    "         'f1_score':[dt_f1,rf_f1,kn_f1,lr_f1]}\n",
    "results_df= pd.DataFrame(results)"
   ]
  },
  {
   "cell_type": "code",
   "execution_count": null,
   "metadata": {},
   "outputs": [],
   "source": [
    "results_df"
   ]
  },
  {
   "cell_type": "markdown",
   "metadata": {},
   "source": [
    "The results show that the Logistic Regression model has the highest F1 score, followed by the DecisionTree Classifier model, the RandomForest Classifier model, and the KNN model. This means that the Logistic Regression model is the best model for predicting the target variable. The higher the F1 score, the better the model is at predicting the target variable. However, all of the models are doing a good job of predicting whether or not a patient has sepsis."
   ]
  },
  {
   "cell_type": "markdown",
   "metadata": {},
   "source": [
    "## Hyperparameter Tuning"
   ]
  },
  {
   "cell_type": "code",
   "execution_count": null,
   "metadata": {},
   "outputs": [],
   "source": [
    "# Define the parameter grid for the decision tree classifier\n",
    "dt_param = {\n",
    "    'max_depth': [5, 10, 15],\n",
    "    'min_samples_split': [2, 5, 10],\n",
    "    'min_samples_leaf': [1, 2, 4],\n",
    "    'max_features': [5,10 ,15]\n",
    "}\n",
    "\n",
    "\n",
    "# perform a grid search with 5-fold cross-validation using only the selected features\n",
    "dt_grid_search = GridSearchCV(estimator=dt_model, param_grid=dt_param,scoring='f1',cv=5)\n",
    "dt_grid_search.fit(X_train_df,y_train)\n",
    "\n",
    "# print the best hyperparameters and the corresponding mean cross-validation score\n",
    "print(\"Best hyperparameters: \", dt_grid_search.best_params_)\n",
    "print('Best estimators: ',dt_grid_search.best_estimator_)\n",
    "print(\"Best f1_score: \", dt_grid_search.best_score_)"
   ]
  },
  {
   "cell_type": "code",
   "execution_count": null,
   "metadata": {},
   "outputs": [],
   "source": [
    "# define the hyperparameter grid to search over the logistics regression model\n",
    "lr_param = {\n",
    "    'C': [200,300,400,500],\n",
    "    'solver': ['newton-cg', 'lbfgs', 'liblinear', 'sag', 'saga']\n",
    "}\n",
    "\n",
    "# perform a grid search with 5-fold cross-validation using only the selected features\n",
    "lr_grid_search = GridSearchCV(estimator=lr_model, param_grid=lr_param,scoring='f1',cv=5)\n",
    "lr_grid_search.fit(X_train_df, y_train)\n",
    "\n",
    "# print the best hyperparameters and the corresponding mean cross-validation score\n",
    "print(\"Best hyperparameters: \", lr_grid_search.best_params_)\n",
    "print('Best estimators: ',lr_grid_search.best_estimator_)\n",
    "print(\"Best f1_score average: \", lr_grid_search.best_score_)"
   ]
  },
  {
   "cell_type": "code",
   "execution_count": null,
   "metadata": {},
   "outputs": [],
   "source": [
    "# define the parameter grid for knn model\n",
    "kn_param = {'n_neighbors': [20,25,30,35,40],\n",
    "              'weights': ['uniform', 'distance'],\n",
    "              'p': [1, 2]}\n",
    "# perform grid search with cross-validation\n",
    "kn_grid_search = GridSearchCV(kn_model, param_grid=kn_param,scoring='f1', cv=5)\n",
    "kn_grid_search.fit(X_train_df, y_train)\n",
    "\n",
    "# print the best hyperparameters and the corresponding score\n",
    "print(\"Best hyperparameters: \",kn_grid_search.best_params_)\n",
    "print('Best estimators: ',kn_grid_search.best_estimator_)\n",
    "print(\"Best score: \", kn_grid_search.best_score_)"
   ]
  },
  {
   "cell_type": "markdown",
   "metadata": {},
   "source": [
    "Based on the F1 scores, the Logistic Regression model achieved the highest performance with an average F1 score of 0.6483. It outperformed the Decision Tree Classifier and K-Nearest Neighbors models.\n",
    "\n",
    "This suggests that the Logistic Regression model is able to predict the presence of sepsis with the highest accuracy."
   ]
  },
  {
   "cell_type": "markdown",
   "metadata": {},
   "source": [
    "# Export Key Components\n",
    "Here is the section to export the important ML objects that will be use to develop an app: Encoder, Scaler, ColumnTransformer, Model, Pipeline, etc."
   ]
  },
  {
   "cell_type": "code",
   "execution_count": null,
   "metadata": {},
   "outputs": [],
   "source": [
    "#creating a file path to save all the componets in.\n",
    "if not os.path.exists(\"key_comp\"):\n",
    "    os.makedirs(\"key_comp\")"
   ]
  },
  {
   "cell_type": "code",
   "execution_count": null,
   "metadata": {},
   "outputs": [],
   "source": [
    "# set the destination path to the \"export\" directory\n",
    "destination = os.path.join(\".\", \"key_comp\")"
   ]
  },
  {
   "cell_type": "code",
   "execution_count": null,
   "metadata": {},
   "outputs": [],
   "source": [
    "# Get the best LR model\n",
    "best_lr = lr_grid_search.best_estimator_"
   ]
  },
  {
   "cell_type": "code",
   "execution_count": null,
   "metadata": {},
   "outputs": [],
   "source": [
    "components_dtc = {\n",
    "    \"num_imputer\":numerical_imputer,\n",
    "    \"scaler\": scaler,\n",
    "    \"models\": best_lr \n",
    "}"
   ]
  },
  {
   "cell_type": "code",
   "execution_count": null,
   "metadata": {},
   "outputs": [],
   "source": [
    "# Export the LR model\n",
    "with open('sepssis_model.pkl', 'wb') as f:\n",
    "    pickle.dump(components_dtc, f)"
   ]
  },
  {
   "cell_type": "code",
   "execution_count": null,
   "metadata": {},
   "outputs": [],
   "source": [
    "!pip list --format=freeze --no-version >key_comp/requirements.txt"
   ]
  },
  {
   "cell_type": "markdown",
   "metadata": {},
   "source": [
    "# Testing Model"
   ]
  },
  {
   "cell_type": "code",
   "execution_count": null,
   "metadata": {},
   "outputs": [],
   "source": [
    "patient_test.head()"
   ]
  },
  {
   "cell_type": "code",
   "execution_count": null,
   "metadata": {},
   "outputs": [],
   "source": [
    "patient_test.isnull().sum()"
   ]
  },
  {
   "cell_type": "code",
   "execution_count": null,
   "metadata": {},
   "outputs": [],
   "source": [
    "test_data = patient_test.drop(columns=['ID','Insurance'])"
   ]
  },
  {
   "cell_type": "code",
   "execution_count": null,
   "metadata": {},
   "outputs": [],
   "source": [
    "test_num = test_data.columns"
   ]
  },
  {
   "cell_type": "code",
   "execution_count": null,
   "metadata": {},
   "outputs": [],
   "source": [
    "test_attributes = list(test_num)"
   ]
  },
  {
   "cell_type": "code",
   "execution_count": null,
   "metadata": {},
   "outputs": [],
   "source": [
    "numerical_pipeline = Pipeline([('imputer', SimpleImputer(strategy='median')),('scaler', StandardScaler())])"
   ]
  },
  {
   "cell_type": "code",
   "execution_count": null,
   "metadata": {},
   "outputs": [],
   "source": [
    "full_pipeline = ColumnTransformer([('numerical', numerical_pipeline, test_attributes)], remainder='passthrough')"
   ]
  },
  {
   "cell_type": "code",
   "execution_count": null,
   "metadata": {},
   "outputs": [],
   "source": [
    "test_imputed = full_pipeline.fit_transform(X_eval)\n",
    "test_imputed"
   ]
  },
  {
   "cell_type": "code",
   "execution_count": null,
   "metadata": {},
   "outputs": [],
   "source": [
    "models = pickle.load(open('sepssis_model.pkl','rb'))\n",
    "models"
   ]
  },
  {
   "cell_type": "code",
   "execution_count": null,
   "metadata": {},
   "outputs": [],
   "source": [
    "model = models['models']"
   ]
  },
  {
   "cell_type": "code",
   "execution_count": null,
   "metadata": {},
   "outputs": [],
   "source": [
    "predictions = model.predict(test_imputed)"
   ]
  },
  {
   "cell_type": "code",
   "execution_count": null,
   "metadata": {},
   "outputs": [],
   "source": [
    "predictions"
   ]
  },
  {
   "cell_type": "code",
   "execution_count": null,
   "metadata": {},
   "outputs": [],
   "source": []
  }
 ],
 "metadata": {
  "kernelspec": {
   "display_name": "Python 3 (ipykernel)",
   "language": "python",
   "name": "python3"
  },
  "language_info": {
   "codemirror_mode": {
    "name": "ipython",
    "version": 3
   },
   "file_extension": ".py",
   "mimetype": "text/x-python",
   "name": "python",
   "nbconvert_exporter": "python",
   "pygments_lexer": "ipython3",
   "version": "3.9.12"
  }
 },
 "nbformat": 4,
 "nbformat_minor": 2
}
