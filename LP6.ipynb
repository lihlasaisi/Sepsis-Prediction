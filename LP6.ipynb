{
 "cells": [
  {
   "cell_type": "markdown",
   "metadata": {},
   "source": [
    "# "
   ]
  },
  {
   "cell_type": "markdown",
   "metadata": {},
   "source": [
    "# Introduction"
   ]
  },
  {
   "cell_type": "markdown",
   "metadata": {},
   "source": [
    "This is information The Johns Hopkins University Hospital trying to do a prediction of the chances of one being Sepssis Positive or Negative"
   ]
  },
  {
   "cell_type": "markdown",
   "metadata": {},
   "source": [
    "## Null Hypothesis:"
   ]
  },
  {
   "cell_type": "markdown",
   "metadata": {},
   "source": [
    "There is no significant difference in the mean age between patients with positive and negative \"Sepssis\" conditions."
   ]
  },
  {
   "cell_type": "markdown",
   "metadata": {},
   "source": [
    "## Alternate Hypothesis:"
   ]
  },
  {
   "cell_type": "markdown",
   "metadata": {},
   "source": [
    "There is a significant difference in the mean age between patients with positive and negative \"Sepssis\" conditions."
   ]
  },
  {
   "cell_type": "markdown",
   "metadata": {},
   "source": [
    "## Questions"
   ]
  },
  {
   "cell_type": "markdown",
   "metadata": {},
   "source": [
    "1. Between Positive and Negative Sepssis which one has a higher numbers ? \n",
    "2. Is there a correlation between a Sepssis and Age Bracket ?\n",
    "3. What is the Insurance uptake like for those with Positive Sepssis compared to Negative Sepssis ?\n",
    "4. What is the Relationship between Blood Pressure, Body mass index and Age of the Patients ?"
   ]
  },
  {
   "cell_type": "code",
   "execution_count": 1,
   "metadata": {},
   "outputs": [],
   "source": [
    "# importing libraries\n",
    "import pandas as pd\n",
    "import numpy as np\n",
    "from matplotlib import pyplot as plt\n",
    "import plotly.express as px\n",
    "import seaborn as sns\n",
    "\n",
    "#Data Splitting\n",
    "from sklearn.model_selection import train_test_split, GridSearchCV\n",
    "\n",
    "#Models\n",
    "from sklearn.metrics import confusion_matrix,classification_report,f1_score\n",
    "from sklearn.linear_model import LogisticRegression\n",
    "from sklearn.ensemble import RandomForestClassifier\n",
    "from sklearn.neighbors import KNeighborsClassifier\n",
    "from sklearn.tree import DecisionTreeClassifier\n",
    "from scipy import stats\n",
    "\n",
    "from sklearn.impute import SimpleImputer\n",
    "from sklearn.preprocessing import OneHotEncoder, LabelEncoder,StandardScaler\n",
    "from imblearn.over_sampling import SMOTE\n",
    "from sklearn.model_selection import cross_val_score\n",
    "import pickle\n",
    "import shap\n",
    "\n",
    "# EDA\n",
    "from pandas_profiling import ProfileReport\n",
    "\n",
    "import warnings\n",
    "warnings.filterwarnings('ignore')"
   ]
  },
  {
   "cell_type": "markdown",
   "metadata": {},
   "source": [
    "## Data Loading"
   ]
  },
  {
   "cell_type": "code",
   "execution_count": 2,
   "metadata": {},
   "outputs": [],
   "source": [
    "# loading dataset\n",
    "patient_test= pd.read_csv(r\"C:\\Users\\hp\\Box\\Azubi Africa\\LP6\\Paitients_Files_Test.csv\")\n",
    "patient_train= pd.read_csv(r\"C:\\Users\\hp\\Box\\Azubi Africa\\LP6\\Paitients_Files_Train.csv\")"
   ]
  },
  {
   "cell_type": "markdown",
   "metadata": {},
   "source": [
    "# Exploratory Data Analysis: EDA"
   ]
  },
  {
   "cell_type": "markdown",
   "metadata": {},
   "source": [
    "## Data Overview"
   ]
  },
  {
   "cell_type": "code",
   "execution_count": 3,
   "metadata": {},
   "outputs": [
    {
     "data": {
      "text/html": [
       "<div>\n",
       "<style scoped>\n",
       "    .dataframe tbody tr th:only-of-type {\n",
       "        vertical-align: middle;\n",
       "    }\n",
       "\n",
       "    .dataframe tbody tr th {\n",
       "        vertical-align: top;\n",
       "    }\n",
       "\n",
       "    .dataframe thead th {\n",
       "        text-align: right;\n",
       "    }\n",
       "</style>\n",
       "<table border=\"1\" class=\"dataframe\">\n",
       "  <thead>\n",
       "    <tr style=\"text-align: right;\">\n",
       "      <th></th>\n",
       "      <th>ID</th>\n",
       "      <th>PRG</th>\n",
       "      <th>PL</th>\n",
       "      <th>PR</th>\n",
       "      <th>SK</th>\n",
       "      <th>TS</th>\n",
       "      <th>M11</th>\n",
       "      <th>BD2</th>\n",
       "      <th>Age</th>\n",
       "      <th>Insurance</th>\n",
       "    </tr>\n",
       "  </thead>\n",
       "  <tbody>\n",
       "    <tr>\n",
       "      <th>0</th>\n",
       "      <td>ICU200609</td>\n",
       "      <td>1</td>\n",
       "      <td>109</td>\n",
       "      <td>38</td>\n",
       "      <td>18</td>\n",
       "      <td>120</td>\n",
       "      <td>23.1</td>\n",
       "      <td>0.407</td>\n",
       "      <td>26</td>\n",
       "      <td>1</td>\n",
       "    </tr>\n",
       "    <tr>\n",
       "      <th>1</th>\n",
       "      <td>ICU200610</td>\n",
       "      <td>1</td>\n",
       "      <td>108</td>\n",
       "      <td>88</td>\n",
       "      <td>19</td>\n",
       "      <td>0</td>\n",
       "      <td>27.1</td>\n",
       "      <td>0.400</td>\n",
       "      <td>24</td>\n",
       "      <td>1</td>\n",
       "    </tr>\n",
       "    <tr>\n",
       "      <th>2</th>\n",
       "      <td>ICU200611</td>\n",
       "      <td>6</td>\n",
       "      <td>96</td>\n",
       "      <td>0</td>\n",
       "      <td>0</td>\n",
       "      <td>0</td>\n",
       "      <td>23.7</td>\n",
       "      <td>0.190</td>\n",
       "      <td>28</td>\n",
       "      <td>1</td>\n",
       "    </tr>\n",
       "    <tr>\n",
       "      <th>3</th>\n",
       "      <td>ICU200612</td>\n",
       "      <td>1</td>\n",
       "      <td>124</td>\n",
       "      <td>74</td>\n",
       "      <td>36</td>\n",
       "      <td>0</td>\n",
       "      <td>27.8</td>\n",
       "      <td>0.100</td>\n",
       "      <td>30</td>\n",
       "      <td>1</td>\n",
       "    </tr>\n",
       "    <tr>\n",
       "      <th>4</th>\n",
       "      <td>ICU200613</td>\n",
       "      <td>7</td>\n",
       "      <td>150</td>\n",
       "      <td>78</td>\n",
       "      <td>29</td>\n",
       "      <td>126</td>\n",
       "      <td>35.2</td>\n",
       "      <td>0.692</td>\n",
       "      <td>54</td>\n",
       "      <td>0</td>\n",
       "    </tr>\n",
       "  </tbody>\n",
       "</table>\n",
       "</div>"
      ],
      "text/plain": [
       "          ID  PRG   PL  PR  SK   TS   M11    BD2  Age  Insurance\n",
       "0  ICU200609    1  109  38  18  120  23.1  0.407   26          1\n",
       "1  ICU200610    1  108  88  19    0  27.1  0.400   24          1\n",
       "2  ICU200611    6   96   0   0    0  23.7  0.190   28          1\n",
       "3  ICU200612    1  124  74  36    0  27.8  0.100   30          1\n",
       "4  ICU200613    7  150  78  29  126  35.2  0.692   54          0"
      ]
     },
     "execution_count": 3,
     "metadata": {},
     "output_type": "execute_result"
    }
   ],
   "source": [
    "patient_test.head()"
   ]
  },
  {
   "cell_type": "code",
   "execution_count": 4,
   "metadata": {},
   "outputs": [
    {
     "data": {
      "text/html": [
       "<div>\n",
       "<style scoped>\n",
       "    .dataframe tbody tr th:only-of-type {\n",
       "        vertical-align: middle;\n",
       "    }\n",
       "\n",
       "    .dataframe tbody tr th {\n",
       "        vertical-align: top;\n",
       "    }\n",
       "\n",
       "    .dataframe thead th {\n",
       "        text-align: right;\n",
       "    }\n",
       "</style>\n",
       "<table border=\"1\" class=\"dataframe\">\n",
       "  <thead>\n",
       "    <tr style=\"text-align: right;\">\n",
       "      <th></th>\n",
       "      <th>ID</th>\n",
       "      <th>PRG</th>\n",
       "      <th>PL</th>\n",
       "      <th>PR</th>\n",
       "      <th>SK</th>\n",
       "      <th>TS</th>\n",
       "      <th>M11</th>\n",
       "      <th>BD2</th>\n",
       "      <th>Age</th>\n",
       "      <th>Insurance</th>\n",
       "      <th>Sepssis</th>\n",
       "    </tr>\n",
       "  </thead>\n",
       "  <tbody>\n",
       "    <tr>\n",
       "      <th>0</th>\n",
       "      <td>ICU200010</td>\n",
       "      <td>6</td>\n",
       "      <td>148</td>\n",
       "      <td>72</td>\n",
       "      <td>35</td>\n",
       "      <td>0</td>\n",
       "      <td>33.6</td>\n",
       "      <td>0.627</td>\n",
       "      <td>50</td>\n",
       "      <td>0</td>\n",
       "      <td>Positive</td>\n",
       "    </tr>\n",
       "    <tr>\n",
       "      <th>1</th>\n",
       "      <td>ICU200011</td>\n",
       "      <td>1</td>\n",
       "      <td>85</td>\n",
       "      <td>66</td>\n",
       "      <td>29</td>\n",
       "      <td>0</td>\n",
       "      <td>26.6</td>\n",
       "      <td>0.351</td>\n",
       "      <td>31</td>\n",
       "      <td>0</td>\n",
       "      <td>Negative</td>\n",
       "    </tr>\n",
       "    <tr>\n",
       "      <th>2</th>\n",
       "      <td>ICU200012</td>\n",
       "      <td>8</td>\n",
       "      <td>183</td>\n",
       "      <td>64</td>\n",
       "      <td>0</td>\n",
       "      <td>0</td>\n",
       "      <td>23.3</td>\n",
       "      <td>0.672</td>\n",
       "      <td>32</td>\n",
       "      <td>1</td>\n",
       "      <td>Positive</td>\n",
       "    </tr>\n",
       "    <tr>\n",
       "      <th>3</th>\n",
       "      <td>ICU200013</td>\n",
       "      <td>1</td>\n",
       "      <td>89</td>\n",
       "      <td>66</td>\n",
       "      <td>23</td>\n",
       "      <td>94</td>\n",
       "      <td>28.1</td>\n",
       "      <td>0.167</td>\n",
       "      <td>21</td>\n",
       "      <td>1</td>\n",
       "      <td>Negative</td>\n",
       "    </tr>\n",
       "    <tr>\n",
       "      <th>4</th>\n",
       "      <td>ICU200014</td>\n",
       "      <td>0</td>\n",
       "      <td>137</td>\n",
       "      <td>40</td>\n",
       "      <td>35</td>\n",
       "      <td>168</td>\n",
       "      <td>43.1</td>\n",
       "      <td>2.288</td>\n",
       "      <td>33</td>\n",
       "      <td>1</td>\n",
       "      <td>Positive</td>\n",
       "    </tr>\n",
       "  </tbody>\n",
       "</table>\n",
       "</div>"
      ],
      "text/plain": [
       "          ID  PRG   PL  PR  SK   TS   M11    BD2  Age  Insurance   Sepssis\n",
       "0  ICU200010    6  148  72  35    0  33.6  0.627   50          0  Positive\n",
       "1  ICU200011    1   85  66  29    0  26.6  0.351   31          0  Negative\n",
       "2  ICU200012    8  183  64   0    0  23.3  0.672   32          1  Positive\n",
       "3  ICU200013    1   89  66  23   94  28.1  0.167   21          1  Negative\n",
       "4  ICU200014    0  137  40  35  168  43.1  2.288   33          1  Positive"
      ]
     },
     "execution_count": 4,
     "metadata": {},
     "output_type": "execute_result"
    }
   ],
   "source": [
    "patient_train.head()"
   ]
  },
  {
   "cell_type": "code",
   "execution_count": 5,
   "metadata": {},
   "outputs": [
    {
     "data": {
      "text/plain": [
       "(599, 11)"
      ]
     },
     "execution_count": 5,
     "metadata": {},
     "output_type": "execute_result"
    }
   ],
   "source": [
    "patient_train.shape"
   ]
  },
  {
   "cell_type": "code",
   "execution_count": 6,
   "metadata": {},
   "outputs": [
    {
     "name": "stdout",
     "output_type": "stream",
     "text": [
      "<class 'pandas.core.frame.DataFrame'>\n",
      "RangeIndex: 599 entries, 0 to 598\n",
      "Data columns (total 11 columns):\n",
      " #   Column     Non-Null Count  Dtype  \n",
      "---  ------     --------------  -----  \n",
      " 0   ID         599 non-null    object \n",
      " 1   PRG        599 non-null    int64  \n",
      " 2   PL         599 non-null    int64  \n",
      " 3   PR         599 non-null    int64  \n",
      " 4   SK         599 non-null    int64  \n",
      " 5   TS         599 non-null    int64  \n",
      " 6   M11        599 non-null    float64\n",
      " 7   BD2        599 non-null    float64\n",
      " 8   Age        599 non-null    int64  \n",
      " 9   Insurance  599 non-null    int64  \n",
      " 10  Sepssis    599 non-null    object \n",
      "dtypes: float64(2), int64(7), object(2)\n",
      "memory usage: 51.6+ KB\n"
     ]
    }
   ],
   "source": [
    "patient_train.info()"
   ]
  },
  {
   "cell_type": "code",
   "execution_count": 7,
   "metadata": {},
   "outputs": [
    {
     "data": {
      "text/plain": [
       "ID           0\n",
       "PRG          0\n",
       "PL           0\n",
       "PR           0\n",
       "SK           0\n",
       "TS           0\n",
       "M11          0\n",
       "BD2          0\n",
       "Age          0\n",
       "Insurance    0\n",
       "Sepssis      0\n",
       "dtype: int64"
      ]
     },
     "execution_count": 7,
     "metadata": {},
     "output_type": "execute_result"
    }
   ],
   "source": [
    "patient_train.isna().sum()"
   ]
  },
  {
   "cell_type": "code",
   "execution_count": 8,
   "metadata": {},
   "outputs": [
    {
     "data": {
      "text/plain": [
       "0"
      ]
     },
     "execution_count": 8,
     "metadata": {},
     "output_type": "execute_result"
    }
   ],
   "source": [
    "patient_train.duplicated().sum()"
   ]
  },
  {
   "cell_type": "code",
   "execution_count": 9,
   "metadata": {},
   "outputs": [
    {
     "data": {
      "text/html": [
       "<div>\n",
       "<style scoped>\n",
       "    .dataframe tbody tr th:only-of-type {\n",
       "        vertical-align: middle;\n",
       "    }\n",
       "\n",
       "    .dataframe tbody tr th {\n",
       "        vertical-align: top;\n",
       "    }\n",
       "\n",
       "    .dataframe thead th {\n",
       "        text-align: right;\n",
       "    }\n",
       "</style>\n",
       "<table border=\"1\" class=\"dataframe\">\n",
       "  <thead>\n",
       "    <tr style=\"text-align: right;\">\n",
       "      <th></th>\n",
       "      <th>PRG</th>\n",
       "      <th>PL</th>\n",
       "      <th>PR</th>\n",
       "      <th>SK</th>\n",
       "      <th>TS</th>\n",
       "      <th>M11</th>\n",
       "      <th>BD2</th>\n",
       "      <th>Age</th>\n",
       "      <th>Insurance</th>\n",
       "    </tr>\n",
       "  </thead>\n",
       "  <tbody>\n",
       "    <tr>\n",
       "      <th>count</th>\n",
       "      <td>599.000000</td>\n",
       "      <td>599.000000</td>\n",
       "      <td>599.000000</td>\n",
       "      <td>599.000000</td>\n",
       "      <td>599.000000</td>\n",
       "      <td>599.000000</td>\n",
       "      <td>599.000000</td>\n",
       "      <td>599.000000</td>\n",
       "      <td>599.000000</td>\n",
       "    </tr>\n",
       "    <tr>\n",
       "      <th>mean</th>\n",
       "      <td>3.824708</td>\n",
       "      <td>120.153589</td>\n",
       "      <td>68.732888</td>\n",
       "      <td>20.562604</td>\n",
       "      <td>79.460768</td>\n",
       "      <td>31.920033</td>\n",
       "      <td>0.481187</td>\n",
       "      <td>33.290484</td>\n",
       "      <td>0.686144</td>\n",
       "    </tr>\n",
       "    <tr>\n",
       "      <th>std</th>\n",
       "      <td>3.362839</td>\n",
       "      <td>32.682364</td>\n",
       "      <td>19.335675</td>\n",
       "      <td>16.017622</td>\n",
       "      <td>116.576176</td>\n",
       "      <td>8.008227</td>\n",
       "      <td>0.337552</td>\n",
       "      <td>11.828446</td>\n",
       "      <td>0.464447</td>\n",
       "    </tr>\n",
       "    <tr>\n",
       "      <th>min</th>\n",
       "      <td>0.000000</td>\n",
       "      <td>0.000000</td>\n",
       "      <td>0.000000</td>\n",
       "      <td>0.000000</td>\n",
       "      <td>0.000000</td>\n",
       "      <td>0.000000</td>\n",
       "      <td>0.078000</td>\n",
       "      <td>21.000000</td>\n",
       "      <td>0.000000</td>\n",
       "    </tr>\n",
       "    <tr>\n",
       "      <th>25%</th>\n",
       "      <td>1.000000</td>\n",
       "      <td>99.000000</td>\n",
       "      <td>64.000000</td>\n",
       "      <td>0.000000</td>\n",
       "      <td>0.000000</td>\n",
       "      <td>27.100000</td>\n",
       "      <td>0.248000</td>\n",
       "      <td>24.000000</td>\n",
       "      <td>0.000000</td>\n",
       "    </tr>\n",
       "    <tr>\n",
       "      <th>50%</th>\n",
       "      <td>3.000000</td>\n",
       "      <td>116.000000</td>\n",
       "      <td>70.000000</td>\n",
       "      <td>23.000000</td>\n",
       "      <td>36.000000</td>\n",
       "      <td>32.000000</td>\n",
       "      <td>0.383000</td>\n",
       "      <td>29.000000</td>\n",
       "      <td>1.000000</td>\n",
       "    </tr>\n",
       "    <tr>\n",
       "      <th>75%</th>\n",
       "      <td>6.000000</td>\n",
       "      <td>140.000000</td>\n",
       "      <td>80.000000</td>\n",
       "      <td>32.000000</td>\n",
       "      <td>123.500000</td>\n",
       "      <td>36.550000</td>\n",
       "      <td>0.647000</td>\n",
       "      <td>40.000000</td>\n",
       "      <td>1.000000</td>\n",
       "    </tr>\n",
       "    <tr>\n",
       "      <th>max</th>\n",
       "      <td>17.000000</td>\n",
       "      <td>198.000000</td>\n",
       "      <td>122.000000</td>\n",
       "      <td>99.000000</td>\n",
       "      <td>846.000000</td>\n",
       "      <td>67.100000</td>\n",
       "      <td>2.420000</td>\n",
       "      <td>81.000000</td>\n",
       "      <td>1.000000</td>\n",
       "    </tr>\n",
       "  </tbody>\n",
       "</table>\n",
       "</div>"
      ],
      "text/plain": [
       "              PRG          PL          PR          SK          TS         M11  \\\n",
       "count  599.000000  599.000000  599.000000  599.000000  599.000000  599.000000   \n",
       "mean     3.824708  120.153589   68.732888   20.562604   79.460768   31.920033   \n",
       "std      3.362839   32.682364   19.335675   16.017622  116.576176    8.008227   \n",
       "min      0.000000    0.000000    0.000000    0.000000    0.000000    0.000000   \n",
       "25%      1.000000   99.000000   64.000000    0.000000    0.000000   27.100000   \n",
       "50%      3.000000  116.000000   70.000000   23.000000   36.000000   32.000000   \n",
       "75%      6.000000  140.000000   80.000000   32.000000  123.500000   36.550000   \n",
       "max     17.000000  198.000000  122.000000   99.000000  846.000000   67.100000   \n",
       "\n",
       "              BD2         Age   Insurance  \n",
       "count  599.000000  599.000000  599.000000  \n",
       "mean     0.481187   33.290484    0.686144  \n",
       "std      0.337552   11.828446    0.464447  \n",
       "min      0.078000   21.000000    0.000000  \n",
       "25%      0.248000   24.000000    0.000000  \n",
       "50%      0.383000   29.000000    1.000000  \n",
       "75%      0.647000   40.000000    1.000000  \n",
       "max      2.420000   81.000000    1.000000  "
      ]
     },
     "execution_count": 9,
     "metadata": {},
     "output_type": "execute_result"
    }
   ],
   "source": [
    "patient_train.describe()"
   ]
  },
  {
   "cell_type": "markdown",
   "metadata": {},
   "source": [
    "# Exploratory Data Analysis"
   ]
  },
  {
   "cell_type": "markdown",
   "metadata": {},
   "source": [
    "### Between Positive and Negative Sepssis which one has a higher numbers ? "
   ]
  },
  {
   "cell_type": "code",
   "execution_count": 10,
   "metadata": {},
   "outputs": [
    {
     "data": {
      "text/plain": [
       "Negative    391\n",
       "Positive    208\n",
       "Name: Sepssis, dtype: int64"
      ]
     },
     "execution_count": 10,
     "metadata": {},
     "output_type": "execute_result"
    }
   ],
   "source": [
    "# Getting the value count of Sepssis(positive/negative)\n",
    "patient_train['Sepssis'].value_counts()"
   ]
  },
  {
   "cell_type": "code",
   "execution_count": 11,
   "metadata": {},
   "outputs": [
    {
     "data": {
      "image/png": "[encoded data removed]",
      "text/plain": [
       "<Figure size 432x288 with 1 Axes>"
      ]
     },
     "metadata": {
      "needs_background": "light"
     },
     "output_type": "display_data"
    }
   ],
   "source": [
    "sns.countplot(x='Sepssis', data=patient_train)\n",
    "plt.title('Sepssis Value Counts')\n",
    "plt.xlabel('Sepssis')\n",
    "plt.ylabel('Count')\n",
    "plt.show()"
   ]
  },
  {
   "cell_type": "markdown",
   "metadata": {},
   "source": [
    "From the above graph we are able to note that we have more Negative results as compared to Positive"
   ]
  },
  {
   "cell_type": "markdown",
   "metadata": {},
   "source": [
    "### Is there a correlation between a Sepssis and Age Bracket ?"
   ]
  },
  {
   "cell_type": "code",
   "execution_count": 12,
   "metadata": {},
   "outputs": [
    {
     "data": {
      "image/png": "[encoded data removed]",
      "text/plain": [
       "<Figure size 432x288 with 1 Axes>"
      ]
     },
     "metadata": {
      "needs_background": "light"
     },
     "output_type": "display_data"
    }
   ],
   "source": [
    "# Define age groups\n",
    "age_groups = [\"18-30\", \"31-40\", \"41-50\", \"51-60\", \"61-70\",\"71-80\"]\n",
    "\n",
    "# Count occurrences of Sepssis for each age group\n",
    "grouped_data = {age_group: {\"Positive\": 0, \"Negative\": 0} for age_group in age_groups}\n",
    "for age, sepssis in zip(patient_train[\"Age\"], patient_train[\"Sepssis\"]):\n",
    "    for age_range in age_groups:\n",
    "        age_range_values = age_range.split(\"-\")\n",
    "        if int(age_range_values[0]) <= age <= int(age_range_values[1]):\n",
    "            grouped_data[age_range][sepssis] += 1\n",
    "\n",
    "# Get the counts of Negative and Positive Sepssis for each age group\n",
    "negative_counts = [grouped_data[age_group][\"Negative\"] for age_group in age_groups]\n",
    "positive_counts = [grouped_data[age_group][\"Positive\"] for age_group in age_groups]\n",
    "\n",
    "# Create a bar plot to compare Negative and Positive Sepssis\n",
    "bar_width = 0.35\n",
    "index = range(len(age_groups))\n",
    "\n",
    "plt.bar(index, negative_counts, bar_width, label='Negative Sepssis')\n",
    "plt.bar(index, positive_counts, bar_width, bottom=negative_counts, label='Positive Sepssis')\n",
    "\n",
    "# Set x-axis ticks and labels\n",
    "plt.xlabel('Age Groups')\n",
    "plt.xticks(index, age_groups)\n",
    "\n",
    "# Set y-axis label\n",
    "plt.ylabel('Count')\n",
    "\n",
    "# Set title and legend\n",
    "plt.title('Comparison of Negative and Positive Sepssis by Age Group')\n",
    "plt.legend()\n",
    "\n",
    "# Display the plot\n",
    "plt.show()"
   ]
  },
  {
   "cell_type": "markdown",
   "metadata": {},
   "source": [
    "We are able to conclude there is a higher percantage of positive and negative sepssis in the age bracket of 18-30 yrs"
   ]
  },
  {
   "cell_type": "markdown",
   "metadata": {},
   "source": [
    "## Multivariate Analysis"
   ]
  },
  {
   "cell_type": "code",
   "execution_count": 13,
   "metadata": {},
   "outputs": [
    {
     "data": {
      "image/png": "[encoded data removed]",
      "text/plain": [
       "<Figure size 720x576 with 2 Axes>"
      ]
     },
     "metadata": {
      "needs_background": "light"
     },
     "output_type": "display_data"
    }
   ],
   "source": [
    "# Calculate the correlation matrix\n",
    "corr_matrix = patient_train.drop(columns=['ID']).corr()\n",
    "\n",
    "# Generate the heatmap\n",
    "plt.figure(figsize=(10, 8))\n",
    "sns.heatmap(corr_matrix, annot=True, cmap='gist_heat', square=True)\n",
    "\n",
    "# Set the title of the heatmap\n",
    "plt.title('Correlation Heatmap')\n",
    "\n",
    "# Display the heatmap\n",
    "plt.show()"
   ]
  },
  {
   "cell_type": "markdown",
   "metadata": {},
   "source": [
    "#### Based on the heatmap, we can make the following observations:\n",
    "-> Age and PRG have a moderately positive correlation, indicating that as the number of pregnancies increases, the age tends to be higher.\n",
    "\n",
    "-> PL and PR have a weak positive correlation, suggesting that higher glucose levels may be associated with slightly higher diastolic blood pressure.\n",
    "\n",
    "-> M11 and Age have a weak negative correlation, implying that older individuals tend to have slightly lower values for M11.\n",
    "\n",
    "-> TS and PRG have a weak negative correlation, indicating that as the number of pregnancies increases, the triceps skinfold thickness tends to be slightly lower.\n",
    "\n",
    "-> There seems to be no significant correlation between other variables based on the given dataset."
   ]
  },
  {
   "cell_type": "markdown",
   "metadata": {},
   "source": [
    "### What is the Relationship between Blood Pressure, Body mass index and Age of the Patients ?"
   ]
  },
  {
   "cell_type": "code",
   "execution_count": 14,
   "metadata": {},
   "outputs": [
    {
     "data": {
      "image/png": "[encoded data removed]",
      "text/plain": [
       "<Figure size 1080x576 with 2 Axes>"
      ]
     },
     "metadata": {
      "needs_background": "light"
     },
     "output_type": "display_data"
    }
   ],
   "source": [
    "# Set the figure size\n",
    "plt.figure(figsize=(15, 8))  # Adjust the width and height as desired\n",
    "\n",
    "# Create the scatter plot\n",
    "plt.scatter(patient_train['PR'], patient_train['M11'], c=patient_train['Age'], cmap='viridis')\n",
    "plt.colorbar(label='Age')\n",
    "plt.xlabel('PR')\n",
    "plt.ylabel('M11')\n",
    "plt.title('Relationship between PR, M11, and Age')\n",
    "\n",
    "# Display the scatter plot\n",
    "plt.show()"
   ]
  },
  {
   "cell_type": "markdown",
   "metadata": {},
   "source": [
    "### What is the Insurance uptake like for those with Positive Sepssis compared to Negative Sepssis"
   ]
  },
  {
   "cell_type": "code",
   "execution_count": 15,
   "metadata": {},
   "outputs": [
    {
     "data": {
      "image/png": "[encoded data removed]",
      "text/plain": [
       "<Figure size 432x288 with 1 Axes>"
      ]
     },
     "metadata": {
      "needs_background": "light"
     },
     "output_type": "display_data"
    }
   ],
   "source": [
    "# Count the occurrences of each combination of Sepssis and Insurance\n",
    "count_data = patient_train.groupby(['Sepssis', 'Insurance']).size().reset_index(name='Count')\n",
    "\n",
    "# Create a bar plot\n",
    "ax = sns.barplot(x='Sepssis', y='Count', hue='Insurance', data=count_data)\n",
    "\n",
    "# Add value annotations to the plot\n",
    "for p in ax.patches:\n",
    "    ax.annotate(format(p.get_height(), '.0f'), (p.get_x() + p.get_width() / 2., p.get_height()),\n",
    "                ha = 'center', va = 'center', xytext = (0, 10), textcoords = 'offset points')\n",
    "\n",
    "# Set labels and title\n",
    "plt.xlabel('Sepssis')\n",
    "plt.ylabel('Count')\n",
    "plt.title('Distribution of Sepssis Grouped by Insurance')\n",
    "\n",
    "# Display the plot\n",
    "plt.show()"
   ]
  },
  {
   "cell_type": "markdown",
   "metadata": {},
   "source": [
    "We can conclude that insurance uptake is lower for those with positive sepssis as compared to those who are negative"
   ]
  },
  {
   "cell_type": "code",
   "execution_count": 16,
   "metadata": {},
   "outputs": [
    {
     "data": {
      "image/png": "[encoded data removed]",
      "text/plain": [
       "<Figure size 1440x1080 with 8 Axes>"
      ]
     },
     "metadata": {
      "needs_background": "light"
     },
     "output_type": "display_data"
    }
   ],
   "source": [
    "# Select the columns for individual box plots\n",
    "columns_for_boxplot = ['PRG', 'PL', 'PR', 'SK', 'TS', 'M11', 'BD2', 'Age']\n",
    "\n",
    "# Create individual box plots\n",
    "plt.figure(figsize=(20, 15))\n",
    "\n",
    "for i, col in enumerate(columns_for_boxplot):\n",
    "    plt.subplot(3, 3, i+1)\n",
    "    sns.boxplot(data=patient_train[col])\n",
    "    plt.xlabel(col)\n",
    "    plt.ylabel('Values')\n",
    "\n",
    "plt.tight_layout()\n",
    "plt.show()"
   ]
  },
  {
   "cell_type": "markdown",
   "metadata": {},
   "source": [
    "We are able to note that there are outliners across"
   ]
  },
  {
   "cell_type": "markdown",
   "metadata": {},
   "source": [
    "## Testing Null Hypothesis\n",
    "### There is no significant difference in the mean age between patients with positive and negative \"Sepssis\" conditions."
   ]
  },
  {
   "cell_type": "code",
   "execution_count": 17,
   "metadata": {},
   "outputs": [
    {
     "name": "stdout",
     "output_type": "stream",
     "text": [
      "Reject the null hypothesis. There is a significant difference in the mean age.\n"
     ]
    }
   ],
   "source": [
    "# Separate the age values for positive and negative Sepssis groups\n",
    "age_positive = patient_train[patient_train['Sepssis'] == 'Positive']['Age']\n",
    "age_negative = patient_train[patient_train['Sepssis'] == 'Negative']['Age']\n",
    "\n",
    "# Perform the two-sample t-test\n",
    "t_statistic, p_value = stats.ttest_ind(age_positive, age_negative)\n",
    "\n",
    "# Define the significance level\n",
    "alpha = 0.05\n",
    "\n",
    "# Compare the p-value with the significance level to draw conclusions\n",
    "if p_value < alpha:\n",
    "    print(\"Reject the null hypothesis. There is a significant difference in the mean age.\")\n",
    "else:\n",
    "    print(\"Fail to reject the null hypothesis. There is no significant difference in the mean age.\")"
   ]
  },
  {
   "cell_type": "markdown",
   "metadata": {},
   "source": [
    "## Testing Alternate Hypothesis\n",
    "### There is a significant difference in the mean age between patients with positive and negative \"Sepssis\" conditions."
   ]
  },
  {
   "cell_type": "code",
   "execution_count": 18,
   "metadata": {},
   "outputs": [
    {
     "name": "stdout",
     "output_type": "stream",
     "text": [
      "T-statistic: 5.254202967191447\n",
      "P-value: 2.0718778891882012e-07\n"
     ]
    }
   ],
   "source": [
    "# Separate the age values for patients with positive and negative Sepssis\n",
    "positive_sepssis = patient_train[patient_train['Sepssis'] == 'Positive']['Age']\n",
    "negative_sepssis = patient_train[patient_train['Sepssis'] == 'Negative']['Age']\n",
    "\n",
    "# Perform an independent samples t-test\n",
    "t_statistic, p_value = stats.ttest_ind(positive_sepssis, negative_sepssis)\n",
    "\n",
    "# Print the results\n",
    "print(\"T-statistic:\", t_statistic)\n",
    "print(\"P-value:\", p_value)"
   ]
  },
  {
   "cell_type": "markdown",
   "metadata": {},
   "source": [
    "We can interpret the results as follows:\n",
    "\n",
    "T-Statistic: The t-statistic measures the difference between the mean ages of the positive and negative Sepssis groups relative to the variation within each group. In this case, the t-statistic is 5.254202967191447, indicating a significant difference between the mean ages of the two groups.\n",
    "\n",
    "P-Value: The p-value represents the probability of obtaining the observed difference in means or a more extreme difference if the null hypothesis (no significant difference) were true. In this case, the p-value is very small (2.0718778891882012e-07), which is significantly lower than the conventional significance level of 0.05. Therefore, we reject the null hypothesis and conclude that there is a significant difference in the mean age between patients with positive and negative Sepssis conditions.\n",
    "\n",
    "In summary, based on the results, we can say that there is strong evidence to support the claim that there is a significant difference in the mean age between patients with positive and negative Sepssis conditions."
   ]
  },
  {
   "cell_type": "markdown",
   "metadata": {},
   "source": [
    "# Feature Processing & Engineering"
   ]
  },
  {
   "cell_type": "markdown",
   "metadata": {},
   "source": [
    "## Feature Encoding"
   ]
  },
  {
   "cell_type": "code",
   "execution_count": 19,
   "metadata": {},
   "outputs": [],
   "source": [
    "# spliting the data into feature and target variables\n",
    "X = patient_train.iloc[:,:-1]\n",
    "y = patient_train.iloc[:,-1]"
   ]
  },
  {
   "cell_type": "code",
   "execution_count": 20,
   "metadata": {},
   "outputs": [],
   "source": [
    "# Encoding the target variable\n",
    "label_encoder=LabelEncoder()\n",
    "y_encoded = label_encoder.fit_transform(y) "
   ]
  },
  {
   "cell_type": "code",
   "execution_count": 21,
   "metadata": {},
   "outputs": [],
   "source": [
    "#converting to a DataFrame\n",
    "y_encoded_df = pd.DataFrame(y_encoded, columns = [\"Sepssis\"])"
   ]
  },
  {
   "cell_type": "code",
   "execution_count": 22,
   "metadata": {},
   "outputs": [],
   "source": [
    "# combining the features and the encoded target variables\n",
    "patient_df = pd.concat([X, y_encoded_df], axis = 1 )"
   ]
  },
  {
   "cell_type": "code",
   "execution_count": 23,
   "metadata": {},
   "outputs": [
    {
     "data": {
      "text/html": [
       "<div>\n",
       "<style scoped>\n",
       "    .dataframe tbody tr th:only-of-type {\n",
       "        vertical-align: middle;\n",
       "    }\n",
       "\n",
       "    .dataframe tbody tr th {\n",
       "        vertical-align: top;\n",
       "    }\n",
       "\n",
       "    .dataframe thead th {\n",
       "        text-align: right;\n",
       "    }\n",
       "</style>\n",
       "<table border=\"1\" class=\"dataframe\">\n",
       "  <thead>\n",
       "    <tr style=\"text-align: right;\">\n",
       "      <th></th>\n",
       "      <th>ID</th>\n",
       "      <th>PRG</th>\n",
       "      <th>PL</th>\n",
       "      <th>PR</th>\n",
       "      <th>SK</th>\n",
       "      <th>TS</th>\n",
       "      <th>M11</th>\n",
       "      <th>BD2</th>\n",
       "      <th>Age</th>\n",
       "      <th>Insurance</th>\n",
       "      <th>Sepssis</th>\n",
       "    </tr>\n",
       "  </thead>\n",
       "  <tbody>\n",
       "    <tr>\n",
       "      <th>0</th>\n",
       "      <td>ICU200010</td>\n",
       "      <td>6</td>\n",
       "      <td>148</td>\n",
       "      <td>72</td>\n",
       "      <td>35</td>\n",
       "      <td>0</td>\n",
       "      <td>33.6</td>\n",
       "      <td>0.627</td>\n",
       "      <td>50</td>\n",
       "      <td>0</td>\n",
       "      <td>1</td>\n",
       "    </tr>\n",
       "    <tr>\n",
       "      <th>1</th>\n",
       "      <td>ICU200011</td>\n",
       "      <td>1</td>\n",
       "      <td>85</td>\n",
       "      <td>66</td>\n",
       "      <td>29</td>\n",
       "      <td>0</td>\n",
       "      <td>26.6</td>\n",
       "      <td>0.351</td>\n",
       "      <td>31</td>\n",
       "      <td>0</td>\n",
       "      <td>0</td>\n",
       "    </tr>\n",
       "    <tr>\n",
       "      <th>2</th>\n",
       "      <td>ICU200012</td>\n",
       "      <td>8</td>\n",
       "      <td>183</td>\n",
       "      <td>64</td>\n",
       "      <td>0</td>\n",
       "      <td>0</td>\n",
       "      <td>23.3</td>\n",
       "      <td>0.672</td>\n",
       "      <td>32</td>\n",
       "      <td>1</td>\n",
       "      <td>1</td>\n",
       "    </tr>\n",
       "    <tr>\n",
       "      <th>3</th>\n",
       "      <td>ICU200013</td>\n",
       "      <td>1</td>\n",
       "      <td>89</td>\n",
       "      <td>66</td>\n",
       "      <td>23</td>\n",
       "      <td>94</td>\n",
       "      <td>28.1</td>\n",
       "      <td>0.167</td>\n",
       "      <td>21</td>\n",
       "      <td>1</td>\n",
       "      <td>0</td>\n",
       "    </tr>\n",
       "    <tr>\n",
       "      <th>4</th>\n",
       "      <td>ICU200014</td>\n",
       "      <td>0</td>\n",
       "      <td>137</td>\n",
       "      <td>40</td>\n",
       "      <td>35</td>\n",
       "      <td>168</td>\n",
       "      <td>43.1</td>\n",
       "      <td>2.288</td>\n",
       "      <td>33</td>\n",
       "      <td>1</td>\n",
       "      <td>1</td>\n",
       "    </tr>\n",
       "  </tbody>\n",
       "</table>\n",
       "</div>"
      ],
      "text/plain": [
       "          ID  PRG   PL  PR  SK   TS   M11    BD2  Age  Insurance  Sepssis\n",
       "0  ICU200010    6  148  72  35    0  33.6  0.627   50          0        1\n",
       "1  ICU200011    1   85  66  29    0  26.6  0.351   31          0        0\n",
       "2  ICU200012    8  183  64   0    0  23.3  0.672   32          1        1\n",
       "3  ICU200013    1   89  66  23   94  28.1  0.167   21          1        0\n",
       "4  ICU200014    0  137  40  35  168  43.1  2.288   33          1        1"
      ]
     },
     "execution_count": 23,
     "metadata": {},
     "output_type": "execute_result"
    }
   ],
   "source": [
    "patient_df.head()"
   ]
  },
  {
   "cell_type": "code",
   "execution_count": 24,
   "metadata": {},
   "outputs": [],
   "source": [
    "patient_df.drop('ID',axis=1,inplace=True)"
   ]
  },
  {
   "cell_type": "markdown",
   "metadata": {},
   "source": [
    "## Data Splitting"
   ]
  },
  {
   "cell_type": "code",
   "execution_count": 25,
   "metadata": {
    "scrolled": true
   },
   "outputs": [],
   "source": [
    "# Split the encoded data into train and test sets\n",
    "X_train, X_eval, y_train, y_eval = train_test_split(patient_df.iloc[:, :-1], patient_df.iloc[:, -1:],\n",
    "                                                    test_size=0.2, random_state=42, stratify=patient_df.iloc[:, -1:])"
   ]
  },
  {
   "cell_type": "code",
   "execution_count": 26,
   "metadata": {
    "scrolled": true
   },
   "outputs": [
    {
     "data": {
      "text/plain": [
       "((479, 9), (120, 9), (479, 1), (120, 1))"
      ]
     },
     "execution_count": 26,
     "metadata": {},
     "output_type": "execute_result"
    }
   ],
   "source": [
    "X_train.shape, X_eval.shape, y_train.shape, y_eval.shape"
   ]
  },
  {
   "cell_type": "markdown",
   "metadata": {},
   "source": [
    "## Imputing Missing Values"
   ]
  },
  {
   "cell_type": "code",
   "execution_count": 27,
   "metadata": {},
   "outputs": [],
   "source": [
    "# Creating imputer variables\n",
    "numerical_imputer = SimpleImputer(strategy = \"mean\")"
   ]
  },
  {
   "cell_type": "code",
   "execution_count": 28,
   "metadata": {
    "scrolled": false
   },
   "outputs": [],
   "source": [
    "X_train_imputed = numerical_imputer.fit_transform(X_train)"
   ]
  },
  {
   "cell_type": "markdown",
   "metadata": {},
   "source": [
    "## Features Scaling"
   ]
  },
  {
   "cell_type": "code",
   "execution_count": 29,
   "metadata": {},
   "outputs": [],
   "source": [
    "#Create a Scaler and fit it to your training data\n",
    "scaler = StandardScaler()\n",
    "scaler.fit(X_train_imputed)\n",
    "\n",
    "# Transform the data\n",
    "scaled_df = scaler.transform(X_train_imputed)\n",
    "\n",
    "# Create a new DataFrame with the original column names\n",
    "X_train_df = pd.DataFrame(scaled_df, columns=['PRG','PL','PR','SK','TS','M11','BD2','Age','Insurance'])"
   ]
  },
  {
   "cell_type": "code",
   "execution_count": 30,
   "metadata": {},
   "outputs": [
    {
     "data": {
      "text/html": [
       "<div>\n",
       "<style scoped>\n",
       "    .dataframe tbody tr th:only-of-type {\n",
       "        vertical-align: middle;\n",
       "    }\n",
       "\n",
       "    .dataframe tbody tr th {\n",
       "        vertical-align: top;\n",
       "    }\n",
       "\n",
       "    .dataframe thead th {\n",
       "        text-align: right;\n",
       "    }\n",
       "</style>\n",
       "<table border=\"1\" class=\"dataframe\">\n",
       "  <thead>\n",
       "    <tr style=\"text-align: right;\">\n",
       "      <th></th>\n",
       "      <th>PRG</th>\n",
       "      <th>PL</th>\n",
       "      <th>PR</th>\n",
       "      <th>SK</th>\n",
       "      <th>TS</th>\n",
       "      <th>M11</th>\n",
       "      <th>BD2</th>\n",
       "      <th>Age</th>\n",
       "      <th>Insurance</th>\n",
       "    </tr>\n",
       "  </thead>\n",
       "  <tbody>\n",
       "    <tr>\n",
       "      <th>0</th>\n",
       "      <td>0.936259</td>\n",
       "      <td>-0.541760</td>\n",
       "      <td>0.292468</td>\n",
       "      <td>1.227874</td>\n",
       "      <td>0.278949</td>\n",
       "      <td>0.706624</td>\n",
       "      <td>-0.824511</td>\n",
       "      <td>0.991413</td>\n",
       "      <td>0.678503</td>\n",
       "    </tr>\n",
       "    <tr>\n",
       "      <th>1</th>\n",
       "      <td>0.936259</td>\n",
       "      <td>1.923458</td>\n",
       "      <td>0.812484</td>\n",
       "      <td>0.025886</td>\n",
       "      <td>1.108512</td>\n",
       "      <td>0.534049</td>\n",
       "      <td>0.260234</td>\n",
       "      <td>1.504619</td>\n",
       "      <td>-1.473834</td>\n",
       "    </tr>\n",
       "    <tr>\n",
       "      <th>2</th>\n",
       "      <td>-0.563634</td>\n",
       "      <td>-1.197071</td>\n",
       "      <td>0.188465</td>\n",
       "      <td>-0.353689</td>\n",
       "      <td>0.002429</td>\n",
       "      <td>-0.235902</td>\n",
       "      <td>0.149488</td>\n",
       "      <td>-0.719274</td>\n",
       "      <td>0.678503</td>\n",
       "    </tr>\n",
       "    <tr>\n",
       "      <th>3</th>\n",
       "      <td>-0.263656</td>\n",
       "      <td>1.892252</td>\n",
       "      <td>-0.227548</td>\n",
       "      <td>0.278936</td>\n",
       "      <td>-0.054783</td>\n",
       "      <td>0.281824</td>\n",
       "      <td>-0.634255</td>\n",
       "      <td>-0.633740</td>\n",
       "      <td>-1.473834</td>\n",
       "    </tr>\n",
       "    <tr>\n",
       "      <th>4</th>\n",
       "      <td>-1.163592</td>\n",
       "      <td>-1.103456</td>\n",
       "      <td>-0.227548</td>\n",
       "      <td>0.089149</td>\n",
       "      <td>-0.092923</td>\n",
       "      <td>0.520774</td>\n",
       "      <td>0.143808</td>\n",
       "      <td>-1.061412</td>\n",
       "      <td>0.678503</td>\n",
       "    </tr>\n",
       "    <tr>\n",
       "      <th>...</th>\n",
       "      <td>...</td>\n",
       "      <td>...</td>\n",
       "      <td>...</td>\n",
       "      <td>...</td>\n",
       "      <td>...</td>\n",
       "      <td>...</td>\n",
       "      <td>...</td>\n",
       "      <td>...</td>\n",
       "      <td>...</td>\n",
       "    </tr>\n",
       "    <tr>\n",
       "      <th>474</th>\n",
       "      <td>-1.163592</td>\n",
       "      <td>-1.041045</td>\n",
       "      <td>-0.019541</td>\n",
       "      <td>0.721774</td>\n",
       "      <td>-0.722247</td>\n",
       "      <td>0.520774</td>\n",
       "      <td>-0.727963</td>\n",
       "      <td>-0.719274</td>\n",
       "      <td>0.678503</td>\n",
       "    </tr>\n",
       "    <tr>\n",
       "      <th>475</th>\n",
       "      <td>0.036323</td>\n",
       "      <td>0.706451</td>\n",
       "      <td>0.916487</td>\n",
       "      <td>-1.302627</td>\n",
       "      <td>-0.722247</td>\n",
       "      <td>1.609325</td>\n",
       "      <td>0.427773</td>\n",
       "      <td>-0.975877</td>\n",
       "      <td>-1.473834</td>\n",
       "    </tr>\n",
       "    <tr>\n",
       "      <th>476</th>\n",
       "      <td>1.536217</td>\n",
       "      <td>0.082345</td>\n",
       "      <td>-0.643560</td>\n",
       "      <td>-1.302627</td>\n",
       "      <td>-0.722247</td>\n",
       "      <td>0.188899</td>\n",
       "      <td>1.759568</td>\n",
       "      <td>-0.034999</td>\n",
       "      <td>0.678503</td>\n",
       "    </tr>\n",
       "    <tr>\n",
       "      <th>477</th>\n",
       "      <td>0.036323</td>\n",
       "      <td>0.768862</td>\n",
       "      <td>-0.539557</td>\n",
       "      <td>0.468724</td>\n",
       "      <td>0.612681</td>\n",
       "      <td>-0.315552</td>\n",
       "      <td>-0.588821</td>\n",
       "      <td>0.307138</td>\n",
       "      <td>0.678503</td>\n",
       "    </tr>\n",
       "    <tr>\n",
       "      <th>478</th>\n",
       "      <td>-0.563634</td>\n",
       "      <td>0.238372</td>\n",
       "      <td>-0.539557</td>\n",
       "      <td>0.215674</td>\n",
       "      <td>1.899933</td>\n",
       "      <td>-0.554502</td>\n",
       "      <td>3.139636</td>\n",
       "      <td>-0.719274</td>\n",
       "      <td>0.678503</td>\n",
       "    </tr>\n",
       "  </tbody>\n",
       "</table>\n",
       "<p>479 rows × 9 columns</p>\n",
       "</div>"
      ],
      "text/plain": [
       "          PRG        PL        PR        SK        TS       M11       BD2  \\\n",
       "0    0.936259 -0.541760  0.292468  1.227874  0.278949  0.706624 -0.824511   \n",
       "1    0.936259  1.923458  0.812484  0.025886  1.108512  0.534049  0.260234   \n",
       "2   -0.563634 -1.197071  0.188465 -0.353689  0.002429 -0.235902  0.149488   \n",
       "3   -0.263656  1.892252 -0.227548  0.278936 -0.054783  0.281824 -0.634255   \n",
       "4   -1.163592 -1.103456 -0.227548  0.089149 -0.092923  0.520774  0.143808   \n",
       "..        ...       ...       ...       ...       ...       ...       ...   \n",
       "474 -1.163592 -1.041045 -0.019541  0.721774 -0.722247  0.520774 -0.727963   \n",
       "475  0.036323  0.706451  0.916487 -1.302627 -0.722247  1.609325  0.427773   \n",
       "476  1.536217  0.082345 -0.643560 -1.302627 -0.722247  0.188899  1.759568   \n",
       "477  0.036323  0.768862 -0.539557  0.468724  0.612681 -0.315552 -0.588821   \n",
       "478 -0.563634  0.238372 -0.539557  0.215674  1.899933 -0.554502  3.139636   \n",
       "\n",
       "          Age  Insurance  \n",
       "0    0.991413   0.678503  \n",
       "1    1.504619  -1.473834  \n",
       "2   -0.719274   0.678503  \n",
       "3   -0.633740  -1.473834  \n",
       "4   -1.061412   0.678503  \n",
       "..        ...        ...  \n",
       "474 -0.719274   0.678503  \n",
       "475 -0.975877  -1.473834  \n",
       "476 -0.034999   0.678503  \n",
       "477  0.307138   0.678503  \n",
       "478 -0.719274   0.678503  \n",
       "\n",
       "[479 rows x 9 columns]"
      ]
     },
     "execution_count": 30,
     "metadata": {},
     "output_type": "execute_result"
    }
   ],
   "source": [
    "X_train_df"
   ]
  },
  {
   "cell_type": "markdown",
   "metadata": {},
   "source": [
    "# Machine Learning Modeling"
   ]
  },
  {
   "cell_type": "markdown",
   "metadata": {},
   "source": [
    "## Decision Tree Regression Model"
   ]
  },
  {
   "cell_type": "code",
   "execution_count": 31,
   "metadata": {},
   "outputs": [],
   "source": [
    "#fitting decision tree model\n",
    "dt_model=DecisionTreeClassifier(random_state=42)"
   ]
  },
  {
   "cell_type": "code",
   "execution_count": 32,
   "metadata": {},
   "outputs": [
    {
     "data": {
      "text/plain": [
       "DecisionTreeClassifier(random_state=42)"
      ]
     },
     "execution_count": 32,
     "metadata": {},
     "output_type": "execute_result"
    }
   ],
   "source": [
    "#fitting model on imbalanced data\n",
    "dt_model.fit(X_train_df,y_train)\n"
   ]
  },
  {
   "cell_type": "code",
   "execution_count": 33,
   "metadata": {},
   "outputs": [],
   "source": [
    "X_test_imputed = numerical_imputer.transform(X_eval)\n",
    "X_test_scaled = scaler.transform(X_test_imputed)\n",
    "X_test_df = pd.DataFrame(X_test_scaled, columns=['PRG','PL','PR','SK','TS','M11','BD2','Age','Insurance'])"
   ]
  },
  {
   "cell_type": "code",
   "execution_count": 34,
   "metadata": {},
   "outputs": [],
   "source": [
    "dt_pred = dt_model.predict(X_test_df)"
   ]
  },
  {
   "cell_type": "code",
   "execution_count": 35,
   "metadata": {},
   "outputs": [
    {
     "name": "stdout",
     "output_type": "stream",
     "text": [
      "              precision    recall  f1-score   support\n",
      "\n",
      "           0       0.78      0.79      0.79        78\n",
      "           1       0.61      0.60      0.60        42\n",
      "\n",
      "    accuracy                           0.73       120\n",
      "   macro avg       0.70      0.70      0.70       120\n",
      "weighted avg       0.72      0.72      0.72       120\n",
      "\n"
     ]
    }
   ],
   "source": [
    "# report on unbalanced data\n",
    "dt_report1 = classification_report(y_eval, dt_pred)\n",
    "print(dt_report1)"
   ]
  },
  {
   "cell_type": "markdown",
   "metadata": {},
   "source": [
    "## Random Forest Model"
   ]
  },
  {
   "cell_type": "code",
   "execution_count": 36,
   "metadata": {},
   "outputs": [],
   "source": [
    "#fitting random forest model\n",
    "rf_model = RandomForestClassifier(random_state=42)"
   ]
  },
  {
   "cell_type": "code",
   "execution_count": 37,
   "metadata": {},
   "outputs": [
    {
     "data": {
      "text/plain": [
       "RandomForestClassifier(random_state=42)"
      ]
     },
     "execution_count": 37,
     "metadata": {},
     "output_type": "execute_result"
    }
   ],
   "source": [
    "#fitting model on imbalanced data\n",
    "rf_model.fit(X_train_df,y_train)"
   ]
  },
  {
   "cell_type": "code",
   "execution_count": 38,
   "metadata": {},
   "outputs": [],
   "source": [
    "X_test_imputed = numerical_imputer.transform(X_eval)\n",
    "X_test_scaled = scaler.transform(X_test_imputed)\n",
    "X_test_df = pd.DataFrame(X_test_scaled, columns=['PRG','PL','PR','SK','TS','M11','BD2','Age','Insurance'])"
   ]
  },
  {
   "cell_type": "code",
   "execution_count": 39,
   "metadata": {},
   "outputs": [],
   "source": [
    "rf_pred = rf_model.predict(X_test_df)"
   ]
  },
  {
   "cell_type": "code",
   "execution_count": 40,
   "metadata": {},
   "outputs": [
    {
     "name": "stdout",
     "output_type": "stream",
     "text": [
      "              precision    recall  f1-score   support\n",
      "\n",
      "           0       0.77      0.78      0.78        78\n",
      "           1       0.59      0.57      0.58        42\n",
      "\n",
      "    accuracy                           0.71       120\n",
      "   macro avg       0.68      0.68      0.68       120\n",
      "weighted avg       0.71      0.71      0.71       120\n",
      "\n"
     ]
    }
   ],
   "source": [
    "# report on unbalanced data\n",
    "rf_report1 = classification_report(y_eval, rf_pred)\n",
    "print(rf_report1)"
   ]
  },
  {
   "cell_type": "markdown",
   "metadata": {},
   "source": [
    "## Logistic Regression Model"
   ]
  },
  {
   "cell_type": "code",
   "execution_count": 41,
   "metadata": {},
   "outputs": [],
   "source": [
    "# Fit a logistic regression model to the training data\n",
    "lr_model = LogisticRegression(random_state=42)"
   ]
  },
  {
   "cell_type": "code",
   "execution_count": 42,
   "metadata": {},
   "outputs": [
    {
     "data": {
      "text/plain": [
       "LogisticRegression(random_state=42)"
      ]
     },
     "execution_count": 42,
     "metadata": {},
     "output_type": "execute_result"
    }
   ],
   "source": [
    "#fitting model on imbalanced data\n",
    "lr_model.fit(X_train_df,y_train)"
   ]
  },
  {
   "cell_type": "code",
   "execution_count": 43,
   "metadata": {},
   "outputs": [],
   "source": [
    "X_test_imputed = numerical_imputer.transform(X_eval)\n",
    "X_test_scaled = scaler.transform(X_test_imputed)\n",
    "X_test_df = pd.DataFrame(X_test_scaled, columns=['PRG','PL','PR','SK','TS','M11','BD2','Age','Insurance'])"
   ]
  },
  {
   "cell_type": "code",
   "execution_count": 44,
   "metadata": {},
   "outputs": [],
   "source": [
    "lr_pred = lr_model.predict(X_test_df)"
   ]
  },
  {
   "cell_type": "code",
   "execution_count": 45,
   "metadata": {},
   "outputs": [
    {
     "name": "stdout",
     "output_type": "stream",
     "text": [
      "              precision    recall  f1-score   support\n",
      "\n",
      "           0       0.80      0.81      0.80        78\n",
      "           1       0.63      0.62      0.63        42\n",
      "\n",
      "    accuracy                           0.74       120\n",
      "   macro avg       0.72      0.71      0.71       120\n",
      "weighted avg       0.74      0.74      0.74       120\n",
      "\n"
     ]
    }
   ],
   "source": [
    "# report on unbalanced data\n",
    "lr_report1 = classification_report(y_eval, lr_pred)\n",
    "print(lr_report1)"
   ]
  },
  {
   "cell_type": "markdown",
   "metadata": {},
   "source": [
    "## K Nearest Neighbour Model"
   ]
  },
  {
   "cell_type": "code",
   "execution_count": 46,
   "metadata": {},
   "outputs": [],
   "source": [
    "kn_model = KNeighborsClassifier(n_neighbors=5)"
   ]
  },
  {
   "cell_type": "code",
   "execution_count": 47,
   "metadata": {},
   "outputs": [
    {
     "data": {
      "text/plain": [
       "KNeighborsClassifier()"
      ]
     },
     "execution_count": 47,
     "metadata": {},
     "output_type": "execute_result"
    }
   ],
   "source": [
    "#fitting model on imbalanced data\n",
    "kn_model.fit(X_train_df,y_train)"
   ]
  },
  {
   "cell_type": "code",
   "execution_count": 48,
   "metadata": {},
   "outputs": [],
   "source": [
    "X_test_imputed = numerical_imputer.transform(X_eval)\n",
    "X_test_scaled = scaler.transform(X_test_imputed)\n",
    "X_test_df = pd.DataFrame(X_test_scaled, columns=['PRG','PL','PR','SK','TS','M11','BD2','Age','Insurance'])"
   ]
  },
  {
   "cell_type": "code",
   "execution_count": 49,
   "metadata": {},
   "outputs": [],
   "source": [
    "kn_pred = kn_model.predict(X_test_df)"
   ]
  },
  {
   "cell_type": "code",
   "execution_count": 50,
   "metadata": {},
   "outputs": [
    {
     "name": "stdout",
     "output_type": "stream",
     "text": [
      "              precision    recall  f1-score   support\n",
      "\n",
      "           0       0.78      0.81      0.79        78\n",
      "           1       0.62      0.57      0.59        42\n",
      "\n",
      "    accuracy                           0.73       120\n",
      "   macro avg       0.70      0.69      0.69       120\n",
      "weighted avg       0.72      0.72      0.72       120\n",
      "\n"
     ]
    }
   ],
   "source": [
    "# report on unbalanced data\n",
    "kn_report1 = classification_report(y_eval, kn_pred)\n",
    "print(kn_report1)"
   ]
  },
  {
   "cell_type": "markdown",
   "metadata": {},
   "source": [
    "The K-nearest neighbors classifier has the highest accuracy score of 0.74, followed by the logistic regression model with an accuracy score of 0.71, the random forest model with an accuracy score of 0.73, and the decision tree regression model with an accuracy score of 0.72.\n",
    "\n",
    "In terms of precision, the K-nearest neighbors classifier has the highest precision score of 0.80, followed by the logistic regression model with a precision score of 0.77, the random forest model with a precision score of 0.78, and the decision tree regression model with a precision score of 0.79.\n",
    "\n",
    "In terms of recall, the logistic regression model has the highest recall score of 0.59, followed by the K-nearest neighbors classifier with a recall score of 0.62, the random forest model with a recall score of 0.63, and the decision tree regression model with a recall score of 0.60.\n",
    "\n",
    "In terms of f1-score, the K-nearest neighbors classifier has the highest f1-score of 0.80, followed by the logistic regression model with an f1-score of 0.78, the random forest model with an f1-score of 0.79, and the decision tree regression model with an f1-score of 0.72.\n",
    "\n",
    "Overall, the K-nearest neighbors classifier has the best performance in terms of accuracy, precision, recall, and f1-score. "
   ]
  },
  {
   "cell_type": "markdown",
   "metadata": {},
   "source": [
    "## Model Comparison"
   ]
  },
  {
   "cell_type": "code",
   "execution_count": 51,
   "metadata": {},
   "outputs": [],
   "source": [
    "dt_f1= f1_score(y_eval, dt_pred)\n",
    "rf_f1= f1_score(y_eval, rf_pred)\n",
    "kn_f1= f1_score(y_eval, kn_pred)\n",
    "lr_f1= f1_score(y_eval, lr_pred)"
   ]
  },
  {
   "cell_type": "code",
   "execution_count": 52,
   "metadata": {},
   "outputs": [],
   "source": [
    "results= {'Model Name':['DecisionTreeClassifier','RandomForestClassifier','KNN','LogisticRegression'],\n",
    "         'f1_score':[dt_f1,rf_f1,kn_f1,lr_f1]}\n",
    "results_df= pd.DataFrame(results)"
   ]
  },
  {
   "cell_type": "code",
   "execution_count": 53,
   "metadata": {},
   "outputs": [
    {
     "data": {
      "text/html": [
       "<div>\n",
       "<style scoped>\n",
       "    .dataframe tbody tr th:only-of-type {\n",
       "        vertical-align: middle;\n",
       "    }\n",
       "\n",
       "    .dataframe tbody tr th {\n",
       "        vertical-align: top;\n",
       "    }\n",
       "\n",
       "    .dataframe thead th {\n",
       "        text-align: right;\n",
       "    }\n",
       "</style>\n",
       "<table border=\"1\" class=\"dataframe\">\n",
       "  <thead>\n",
       "    <tr style=\"text-align: right;\">\n",
       "      <th></th>\n",
       "      <th>Model Name</th>\n",
       "      <th>f1_score</th>\n",
       "    </tr>\n",
       "  </thead>\n",
       "  <tbody>\n",
       "    <tr>\n",
       "      <th>0</th>\n",
       "      <td>DecisionTreeClassifier</td>\n",
       "      <td>0.602410</td>\n",
       "    </tr>\n",
       "    <tr>\n",
       "      <th>1</th>\n",
       "      <td>RandomForestClassifier</td>\n",
       "      <td>0.578313</td>\n",
       "    </tr>\n",
       "    <tr>\n",
       "      <th>2</th>\n",
       "      <td>KNN</td>\n",
       "      <td>0.592593</td>\n",
       "    </tr>\n",
       "    <tr>\n",
       "      <th>3</th>\n",
       "      <td>LogisticRegression</td>\n",
       "      <td>0.626506</td>\n",
       "    </tr>\n",
       "  </tbody>\n",
       "</table>\n",
       "</div>"
      ],
      "text/plain": [
       "               Model Name  f1_score\n",
       "0  DecisionTreeClassifier  0.602410\n",
       "1  RandomForestClassifier  0.578313\n",
       "2                     KNN  0.592593\n",
       "3      LogisticRegression  0.626506"
      ]
     },
     "execution_count": 53,
     "metadata": {},
     "output_type": "execute_result"
    }
   ],
   "source": [
    "results_df"
   ]
  },
  {
   "cell_type": "markdown",
   "metadata": {},
   "source": [
    "The results show that the LogisticRegression model has the highest F1 score, followed by the DecisionTreeClassifier model, the RandomForestClassifier model, and the KNN model. This means that the LogisticRegression model is the best model for predicting the target variable. The higher the F1 score, the better the model is at predicting the target variable. \n",
    "\n",
    "The F1 score is a measure of the accuracy of a model. It is calculated by taking the harmonic mean of the precision and recall scores. Precision is the percentage of predicted positive instances that are actually positive, and recall is the percentage of actual positive instances that are predicted positive."
   ]
  },
  {
   "cell_type": "markdown",
   "metadata": {},
   "source": [
    "## Hyperparameter Tuning"
   ]
  },
  {
   "cell_type": "code",
   "execution_count": 54,
   "metadata": {},
   "outputs": [
    {
     "name": "stdout",
     "output_type": "stream",
     "text": [
      "Best hyperparameters:  {'max_depth': 15, 'max_features': 5, 'min_samples_leaf': 1, 'min_samples_split': 10}\n",
      "Best estimators:  DecisionTreeClassifier(max_depth=15, max_features=5, min_samples_split=10,\n",
      "                       random_state=42)\n",
      "Best f1_score:  0.5855417570864704\n"
     ]
    }
   ],
   "source": [
    "# Define the parameter grid for the decision tree classifier\n",
    "dt_param = {\n",
    "    'max_depth': [5, 10, 15],\n",
    "    'min_samples_split': [2, 5, 10],\n",
    "    'min_samples_leaf': [1, 2, 4],\n",
    "    'max_features': [5,10 ,15]\n",
    "}\n",
    "\n",
    "\n",
    "# perform a grid search with 5-fold cross-validation using only the selected features\n",
    "dt_grid_search = GridSearchCV(estimator=dt_model, param_grid=dt_param,scoring='f1',cv=5)\n",
    "dt_grid_search.fit(X_train_df,y_train)\n",
    "\n",
    "# print the best hyperparameters and the corresponding mean cross-validation score\n",
    "print(\"Best hyperparameters: \", dt_grid_search.best_params_)\n",
    "print('Best estimators: ',dt_grid_search.best_estimator_)\n",
    "print(\"Best f1_score: \", dt_grid_search.best_score_)"
   ]
  },
  {
   "cell_type": "code",
   "execution_count": 55,
   "metadata": {},
   "outputs": [
    {
     "name": "stdout",
     "output_type": "stream",
     "text": [
      "Best hyperparameters:  {'max_depth': 15, 'max_features': 5, 'min_samples_leaf': 1, 'min_samples_split': 2}\n",
      "Best estimators:  RandomForestClassifier(max_depth=15, max_features=5, random_state=42)\n",
      "Best f1_score:  0.6513027713027713\n"
     ]
    }
   ],
   "source": [
    "# Define the parameter grid for the random forest classifier\n",
    "rf_param = {\n",
    "    'max_depth': [5, 10, 15],\n",
    "    'min_samples_split': [2, 5, 10],\n",
    "    'min_samples_leaf': [1, 2, 4],\n",
    "    'max_features': [5,10 ,15]\n",
    "}\n",
    "\n",
    "\n",
    "# perform a grid search with 5-fold cross-validation using only the selected features\n",
    "rf_grid_search = GridSearchCV(estimator=rf_model, param_grid=rf_param,scoring='f1',cv=5)\n",
    "rf_grid_search.fit(X_train_df,y_train)\n",
    "\n",
    "# print the best hyperparameters and the corresponding mean cross-validation score\n",
    "print(\"Best hyperparameters: \", rf_grid_search.best_params_)\n",
    "print('Best estimators: ',rf_grid_search.best_estimator_)\n",
    "print(\"Best f1_score: \", rf_grid_search.best_score_)"
   ]
  },
  {
   "cell_type": "code",
   "execution_count": 56,
   "metadata": {},
   "outputs": [
    {
     "name": "stdout",
     "output_type": "stream",
     "text": [
      "Best hyperparameters:  {'C': 200, 'solver': 'newton-cg'}\n",
      "Best estimators:  LogisticRegression(C=200, random_state=42, solver='newton-cg')\n",
      "Best f1_score average:  0.6482967000682495\n"
     ]
    }
   ],
   "source": [
    "# define the hyperparameter grid to search over the logistics regression model\n",
    "lr_param = {\n",
    "    'C': [200,300,400,500],\n",
    "    'solver': ['newton-cg', 'lbfgs', 'liblinear', 'sag', 'saga']\n",
    "}\n",
    "\n",
    "# perform a grid search with 5-fold cross-validation using only the selected features\n",
    "lr_grid_search = GridSearchCV(estimator=lr_model, param_grid=lr_param,scoring='f1',cv=5)\n",
    "lr_grid_search.fit(X_train_df, y_train)\n",
    "\n",
    "# print the best hyperparameters and the corresponding mean cross-validation score\n",
    "print(\"Best hyperparameters: \", lr_grid_search.best_params_)\n",
    "print('Best estimators: ',lr_grid_search.best_estimator_)\n",
    "print(\"Best f1_score average: \", lr_grid_search.best_score_)"
   ]
  },
  {
   "cell_type": "code",
   "execution_count": 57,
   "metadata": {},
   "outputs": [
    {
     "name": "stdout",
     "output_type": "stream",
     "text": [
      "Best hyperparameters:  {'n_neighbors': 20, 'p': 2, 'weights': 'distance'}\n",
      "Best estimators:  KNeighborsClassifier(n_neighbors=20, weights='distance')\n",
      "Best score:  0.5768478719866067\n"
     ]
    }
   ],
   "source": [
    "# define the parameter grid for knn model\n",
    "kn_param = {'n_neighbors': [20,25,30,35,40],\n",
    "              'weights': ['uniform', 'distance'],\n",
    "              'p': [1, 2]}\n",
    "# perform grid search with cross-validation\n",
    "kn_grid_search = GridSearchCV(kn_model, param_grid=kn_param,scoring='f1', cv=5)\n",
    "kn_grid_search.fit(X_train_df, y_train)\n",
    "\n",
    "# print the best hyperparameters and the corresponding score\n",
    "print(\"Best hyperparameters: \",kn_grid_search.best_params_)\n",
    "print('Best estimators: ',kn_grid_search.best_estimator_)\n",
    "print(\"Best score: \", kn_grid_search.best_score_)"
   ]
  },
  {
   "cell_type": "markdown",
   "metadata": {},
   "source": [
    "Random Forest Classifier has the highest f1-score of 0.6513027713027713, followed by the logistic regression model with an f1-score of 0.6482967000682495, the decision tree classifier with an f1-score of 0.5855417570864704, and the K-nearest neighbors classifier with an f1-score of 0.5768478719866067.\n",
    "\n",
    "This suggests that the Random Forest Classifier is able to predict the presence of sepsis with the highest accuracy."
   ]
  },
  {
   "cell_type": "markdown",
   "metadata": {},
   "source": [
    "# Export Key Components\n",
    "Here is the section to export the important ML objects that will be use to develop an app: Encoder, Scaler, ColumnTransformer, Model, Pipeline, etc."
   ]
  },
  {
   "cell_type": "code",
   "execution_count": 58,
   "metadata": {},
   "outputs": [],
   "source": [
    "# Get the best LR model\n",
    "best_rf = rf_grid_search.best_estimator_"
   ]
  },
  {
   "cell_type": "code",
   "execution_count": 59,
   "metadata": {},
   "outputs": [],
   "source": [
    "components_dtc = {\n",
    "    \"num_imputer\":numerical_imputer,\n",
    "    \"scaler\": scaler,\n",
    "    \"models\": best_rf \n",
    "}"
   ]
  },
  {
   "cell_type": "code",
   "execution_count": 60,
   "metadata": {},
   "outputs": [],
   "source": [
    "# Export the LR model\n",
    "with open('rf_model.pkl', 'wb') as f:\n",
    "    pickle.dump(components_dtc, f)"
   ]
  },
  {
   "cell_type": "code",
   "execution_count": 61,
   "metadata": {},
   "outputs": [
    {
     "name": "stdout",
     "output_type": "stream",
     "text": [
      "Note: you may need to restart the kernel to use updated packages.\n"
     ]
    }
   ],
   "source": [
    "pip freeze > requirements.txt"
   ]
  },
  {
   "cell_type": "code",
   "execution_count": null,
   "metadata": {},
   "outputs": [],
   "source": []
  }
 ],
 "metadata": {
  "kernelspec": {
   "display_name": "Python 3 (ipykernel)",
   "language": "python",
   "name": "python3"
  },
  "language_info": {
   "codemirror_mode": {
    "name": "ipython",
    "version": 3
   },
   "file_extension": ".py",
   "mimetype": "text/x-python",
   "name": "python",
   "nbconvert_exporter": "python",
   "pygments_lexer": "ipython3",
   "version": "3.9.12"
  }
 },
 "nbformat": 4,
 "nbformat_minor": 2
}
